{
  "nbformat": 4,
  "nbformat_minor": 0,
  "metadata": {
    "colab": {
      "provenance": []
    },
    "kernelspec": {
      "name": "python3",
      "display_name": "Python 3"
    },
    "language_info": {
      "name": "python"
    },
    "accelerator": "GPU",
    "gpuClass": "standard"
  },
  "cells": [
    {
      "cell_type": "code",
      "source": [
        "import keras"
      ],
      "metadata": {
        "id": "_-NHdd--hcWR"
      },
      "execution_count": null,
      "outputs": []
    },
    {
      "cell_type": "code",
      "execution_count": null,
      "metadata": {
        "id": "bBcEH8CChF3Z"
      },
      "outputs": [],
      "source": [
        "#keras.datasets.fashion_mnist.load_data\n",
        "from keras.datasets import mnist"
      ]
    },
    {
      "cell_type": "code",
      "source": [
        "(x_train, y_train),(x_test, y_test)=mnist.load_data()"
      ],
      "metadata": {
        "id": "cj3WHV0DhSrZ"
      },
      "execution_count": null,
      "outputs": []
    },
    {
      "cell_type": "code",
      "source": [
        "x_train.shape"
      ],
      "metadata": {
        "colab": {
          "base_uri": "https://localhost:8080/"
        },
        "id": "EFPNFw7ciY3K",
        "outputId": "17dc86d0-7a3a-4db1-b2cf-faaa8baf6b98"
      },
      "execution_count": null,
      "outputs": [
        {
          "output_type": "execute_result",
          "data": {
            "text/plain": [
              "(60000, 28, 28)"
            ]
          },
          "metadata": {},
          "execution_count": 64
        }
      ]
    },
    {
      "cell_type": "code",
      "source": [
        "x_test.shape"
      ],
      "metadata": {
        "colab": {
          "base_uri": "https://localhost:8080/"
        },
        "id": "hsIHUI1xivX6",
        "outputId": "7663b165-aa62-4e4e-a827-47e6fa2fbac6"
      },
      "execution_count": null,
      "outputs": [
        {
          "output_type": "execute_result",
          "data": {
            "text/plain": [
              "(10000, 28, 28)"
            ]
          },
          "metadata": {},
          "execution_count": 65
        }
      ]
    },
    {
      "cell_type": "code",
      "source": [
        "y_train.shape"
      ],
      "metadata": {
        "colab": {
          "base_uri": "https://localhost:8080/"
        },
        "id": "Df5FsTYLkfxS",
        "outputId": "e6b491de-8946-4991-aa57-0fbc8ab82b2d"
      },
      "execution_count": null,
      "outputs": [
        {
          "output_type": "execute_result",
          "data": {
            "text/plain": [
              "(60000,)"
            ]
          },
          "metadata": {},
          "execution_count": 66
        }
      ]
    },
    {
      "cell_type": "code",
      "source": [
        "print(x_train.shape)\n",
        "print(x_train.shape)\n",
        "print(x_train.shape)\n",
        "print(x_train.shape)"
      ],
      "metadata": {
        "colab": {
          "base_uri": "https://localhost:8080/"
        },
        "id": "mqGtToWiiNWD",
        "outputId": "c96abb61-27ed-4048-ebb3-f4b2f416788c"
      },
      "execution_count": null,
      "outputs": [
        {
          "output_type": "stream",
          "name": "stdout",
          "text": [
            "(60000, 28, 28)\n",
            "(60000, 28, 28)\n",
            "(60000, 28, 28)\n",
            "(60000, 28, 28)\n"
          ]
        }
      ]
    },
    {
      "cell_type": "code",
      "source": [
        "x_train=x_train.reshape(60000,28,28,1)  \n",
        "#reshape lại cho nó có dữ liệu chỉ 1 kênh màu, phải có số 1, xác định chính xác là bao nhiêu kênh màu\n",
        "x_test=x_test.reshape(10000,28,28,1)"
      ],
      "metadata": {
        "id": "d1qbkM-3hsP7"
      },
      "execution_count": null,
      "outputs": []
    },
    {
      "cell_type": "code",
      "source": [
        "#Check lai\n",
        "x_train.shape"
      ],
      "metadata": {
        "colab": {
          "base_uri": "https://localhost:8080/"
        },
        "id": "iPqbexi6i06P",
        "outputId": "8e01b0ac-bd0e-44da-f735-216c77708fcd"
      },
      "execution_count": null,
      "outputs": [
        {
          "output_type": "execute_result",
          "data": {
            "text/plain": [
              "(60000, 28, 28, 1)"
            ]
          },
          "metadata": {},
          "execution_count": 69
        }
      ]
    },
    {
      "cell_type": "code",
      "source": [
        "x_train=x_train.astype('float32')/255"
      ],
      "metadata": {
        "id": "33yceubdjRN6"
      },
      "execution_count": null,
      "outputs": []
    },
    {
      "cell_type": "code",
      "source": [
        "#Chuyển 1 bit thành nhiều bit đầu ra\n",
        "from keras.utils import to_categorical\n",
        "y_train = to_categorical(y_train,10)  #1 bit thành 10 bit\n",
        "y_test = to_categorical(y_test,10)\n",
        "\n",
        "y_train.shape"
      ],
      "metadata": {
        "colab": {
          "base_uri": "https://localhost:8080/"
        },
        "id": "doFoeEhijeO1",
        "outputId": "03fa0708-be78-48a0-cf4d-044462e91db7"
      },
      "execution_count": null,
      "outputs": [
        {
          "output_type": "execute_result",
          "data": {
            "text/plain": [
              "(60000, 10)"
            ]
          },
          "metadata": {},
          "execution_count": 71
        }
      ]
    },
    {
      "cell_type": "code",
      "source": [
        "from keras.models import Sequential, Model\n",
        "from keras.layers import Dense, Flatten, Convolution2D, Conv2D, MaxPooling2D, Normalization, LeakyReLU, BatchNormalization, Activation, Dropout\n",
        "from keras.optimizers import Adam\n",
        "\n",
        "#Toc do hoc cua bo Adam cham hon\n",
        "#Batch size=64, epochs=20, classes=10"
      ],
      "metadata": {
        "id": "g6kEy7M6j31I"
      },
      "execution_count": null,
      "outputs": []
    },
    {
      "cell_type": "code",
      "source": [],
      "metadata": {
        "id": "cyAv7koSqIDI"
      },
      "execution_count": null,
      "outputs": []
    },
    {
      "cell_type": "code",
      "source": [
        "#1 bo VGG\n",
        "from keras.layers.pooling.max_pooling2d import MaxPool2D\n",
        "model=Sequential()\n",
        "model.add(Conv2D(32, kernel_size=(3,3), activation ='linear',  #Conv 32 lan tich chap, kernel_size: kich thuoc bo loc=3,3\n",
        "                 input_shape=(28,28,1), padding='same'))\n",
        "model.add (LeakyReLU(alpha=0.1))\n",
        "model.add(MaxPool2D((2,2),padding='same'))\n",
        "#Bo 2\n",
        "model.add(Conv2D(64, kernel_size=(3,3), activation ='linear',\n",
        "                 padding='same')) #Khong can input_shape, tu dong chuyen vao roi.\n",
        "model.add(LeakyReLU(alpha=0.1))\n",
        "model.add(MaxPool2D((2,2),padding='same'))\n",
        "#Bo 3:\n",
        "model.add(Conv2D(128, kernel_size=(3,3), activation='linear',\n",
        "                 padding='same'))\n",
        "model.add(LeakyReLU(alpha=0.1))\n",
        "model.add(MaxPooling2D((2,2),padding='same'))\n",
        "#-> 3 lan tich chap 32, 64, 128"
      ],
      "metadata": {
        "id": "DPZD7WSTkUAL"
      },
      "execution_count": null,
      "outputs": []
    },
    {
      "cell_type": "code",
      "source": [
        "classes=10;"
      ],
      "metadata": {
        "id": "3jUQKug4rAsT"
      },
      "execution_count": null,
      "outputs": []
    },
    {
      "cell_type": "code",
      "source": [
        "#Bo ANN\n",
        "model.add(Flatten()) #Lam phang model ra, tu model 2D thanh 1 duong thang 1D de di vao mang than kinh ANN\n",
        "model.add(Dense(128, activation='linear'))   #Dense: lop ẩn la 128 neural, activation=linear. Sau flatten tu dong chuyen shape nen khong can nhap lai\n",
        "model.add(LeakyReLU(alpha=0.1))\n",
        "model.add(Dense(classes, activation='softmax'))\n",
        "model.summary()"
      ],
      "metadata": {
        "colab": {
          "base_uri": "https://localhost:8080/"
        },
        "id": "HznmEqmxnr4E",
        "outputId": "d1faa917-8864-41b1-827d-40bf7348b8cb"
      },
      "execution_count": null,
      "outputs": [
        {
          "output_type": "stream",
          "name": "stdout",
          "text": [
            "Model: \"sequential_8\"\n",
            "_________________________________________________________________\n",
            " Layer (type)                Output Shape              Param #   \n",
            "=================================================================\n",
            " conv2d_19 (Conv2D)          (None, 28, 28, 32)        320       \n",
            "                                                                 \n",
            " leaky_re_lu_4 (LeakyReLU)   (None, 28, 28, 32)        0         \n",
            "                                                                 \n",
            " max_pooling2d_8 (MaxPooling  (None, 14, 14, 32)       0         \n",
            " 2D)                                                             \n",
            "                                                                 \n",
            " conv2d_20 (Conv2D)          (None, 14, 14, 64)        18496     \n",
            "                                                                 \n",
            " leaky_re_lu_5 (LeakyReLU)   (None, 14, 14, 64)        0         \n",
            "                                                                 \n",
            " max_pooling2d_9 (MaxPooling  (None, 7, 7, 64)         0         \n",
            " 2D)                                                             \n",
            "                                                                 \n",
            " conv2d_21 (Conv2D)          (None, 7, 7, 128)         73856     \n",
            "                                                                 \n",
            " leaky_re_lu_6 (LeakyReLU)   (None, 7, 7, 128)         0         \n",
            "                                                                 \n",
            " max_pooling2d_10 (MaxPoolin  (None, 4, 4, 128)        0         \n",
            " g2D)                                                            \n",
            "                                                                 \n",
            " flatten_6 (Flatten)         (None, 2048)              0         \n",
            "                                                                 \n",
            " dense_8 (Dense)             (None, 128)               262272    \n",
            "                                                                 \n",
            " leaky_re_lu_7 (LeakyReLU)   (None, 128)               0         \n",
            "                                                                 \n",
            " dense_9 (Dense)             (None, 10)                1290      \n",
            "                                                                 \n",
            "=================================================================\n",
            "Total params: 356,234\n",
            "Trainable params: 356,234\n",
            "Non-trainable params: 0\n",
            "_________________________________________________________________\n"
          ]
        }
      ]
    },
    {
      "cell_type": "code",
      "source": [
        "batch_size = 64\n",
        "epochs = 10"
      ],
      "metadata": {
        "id": "79YLlcgCtC-V"
      },
      "execution_count": null,
      "outputs": []
    },
    {
      "cell_type": "code",
      "source": [
        "from re import VERBOSE\n",
        "from keras.losses import categorical_crossentropy\n",
        "model.compile(loss='categorical_crossentropy', optimizer=Adam(), metrics=['accuracy'])\n",
        "#model.compile(categorical_crossentropy,optimizer=Adam(), metrics=['accuracy'])\n",
        "train=model.fit(x_train, y_train,batch_size=batch_size, epochs=epochs, verbose=1)  #Verbose=1: hoc cai nao hien tung cai do ra"
      ],
      "metadata": {
        "colab": {
          "base_uri": "https://localhost:8080/"
        },
        "id": "J1JO65DZqQeD",
        "outputId": "c475baff-6d6b-48f7-c56a-d6da9955e61b"
      },
      "execution_count": null,
      "outputs": [
        {
          "output_type": "stream",
          "name": "stdout",
          "text": [
            "Epoch 1/10\n",
            "938/938 [==============================] - 4s 4ms/step - loss: 0.1430 - accuracy: 0.9551\n",
            "Epoch 2/10\n",
            "938/938 [==============================] - 4s 5ms/step - loss: 0.0405 - accuracy: 0.9870\n",
            "Epoch 3/10\n",
            "938/938 [==============================] - 4s 4ms/step - loss: 0.0270 - accuracy: 0.9915\n",
            "Epoch 4/10\n",
            "938/938 [==============================] - 4s 4ms/step - loss: 0.0221 - accuracy: 0.9925\n",
            "Epoch 5/10\n",
            "938/938 [==============================] - 4s 5ms/step - loss: 0.0162 - accuracy: 0.9948\n",
            "Epoch 6/10\n",
            "938/938 [==============================] - 4s 4ms/step - loss: 0.0130 - accuracy: 0.9959\n",
            "Epoch 7/10\n",
            "938/938 [==============================] - 4s 4ms/step - loss: 0.0120 - accuracy: 0.9963\n",
            "Epoch 8/10\n",
            "938/938 [==============================] - 4s 5ms/step - loss: 0.0099 - accuracy: 0.9966\n",
            "Epoch 9/10\n",
            "938/938 [==============================] - 4s 4ms/step - loss: 0.0083 - accuracy: 0.9972\n",
            "Epoch 10/10\n",
            "938/938 [==============================] - 4s 4ms/step - loss: 0.0067 - accuracy: 0.9979\n"
          ]
        }
      ]
    },
    {
      "cell_type": "code",
      "source": [
        "#model.compile(loss='categorical_crossentropy', optimizer=Adam(), metrics=['accuracy'])"
      ],
      "metadata": {
        "id": "bexgbmDTrJl9"
      },
      "execution_count": null,
      "outputs": []
    },
    {
      "cell_type": "code",
      "source": [
        "model.save('model_lan1.h5')"
      ],
      "metadata": {
        "id": "3xjsu3NSsadA"
      },
      "execution_count": null,
      "outputs": []
    },
    {
      "cell_type": "code",
      "source": [
        "import matplotlib.pyplot as plt \n",
        "accuracy=train.history['accuracy']    #Quan tam den bien train, h goi ra de xem do chinh xac\n",
        "loss=train.history['loss']\n"
      ],
      "metadata": {
        "id": "d6Fd-tfxsoPE"
      },
      "execution_count": null,
      "outputs": []
    },
    {
      "cell_type": "code",
      "source": [
        "print(x_train.shape)\n",
        "print(y_train.shape )"
      ],
      "metadata": {
        "colab": {
          "base_uri": "https://localhost:8080/"
        },
        "id": "4GQFF8iux98P",
        "outputId": "ad9867e2-d7c5-44a2-fe19-c458ebba30c7"
      },
      "execution_count": null,
      "outputs": [
        {
          "output_type": "stream",
          "name": "stdout",
          "text": [
            "(60000, 28, 28, 1)\n",
            "(60000, 10)\n"
          ]
        }
      ]
    },
    {
      "cell_type": "code",
      "source": [
        "# plt.plot(epochs, accuracy,'bo',label='Training accuracy')\n",
        "# plt.plot(epochs, loss, 'b', label='Training loss')\n",
        "# plt.legend()\n",
        "# plt.show()"
      ],
      "metadata": {
        "id": "A4-GgvoLvVtC"
      },
      "execution_count": null,
      "outputs": []
    },
    {
      "cell_type": "code",
      "source": [
        "#Dung Cifar10 lam thu bt"
      ],
      "metadata": {
        "id": "XcyQx7B4xDYO"
      },
      "execution_count": null,
      "outputs": []
    },
    {
      "cell_type": "markdown",
      "source": [
        "***Bài mới ***"
      ],
      "metadata": {
        "id": "IVhVfmi8zf16"
      }
    },
    {
      "cell_type": "code",
      "source": [
        "#CNN\n",
        "model=Sequential()\n",
        "model.add(Conv2D(32,(3,3),padding='same', input_shape=(32,32,3)))\n",
        "model.add(Activation('relu'))\n",
        "model.add(Conv2D(32,(3,3)))\n",
        "model.add(Activation('relu'))\n",
        "model.add(MaxPooling2D((2,2)))\n",
        "model.add(Dropout(0.25))"
      ],
      "metadata": {
        "id": "cu-mgYpcyWDv"
      },
      "execution_count": null,
      "outputs": []
    },
    {
      "cell_type": "code",
      "source": [
        "model.add(Conv2D(64,(3,3),padding='same'))\n",
        "model.add(Activation('relu'))\n",
        "model.add(Conv2D(64,(3,3)))\n",
        "model.add(Activation('relu'))\n",
        "model.add(MaxPooling2D((2,2)))\n",
        "model.add(Dropout(0.252))"
      ],
      "metadata": {
        "id": "1d5XWahBykw_"
      },
      "execution_count": null,
      "outputs": []
    },
    {
      "cell_type": "code",
      "source": [
        "#ANN\n",
        "model.add(Flatten())\n",
        "model.add(Dense(512, activation='relu'))\n",
        "model.add(Dropout(0.5))\n",
        "model.add(Dense(10, activation='softmax'))"
      ],
      "metadata": {
        "id": "2pilf_vgzzQb"
      },
      "execution_count": null,
      "outputs": []
    },
    {
      "cell_type": "code",
      "source": [
        "from keras.datasets import cifar10\n",
        "(x_train, y_train), (x_test, y_test) = cifar10.load_data()\n",
        "print(x_train.shape,y_train.shape, x_test.shape,y_test.shape)"
      ],
      "metadata": {
        "colab": {
          "base_uri": "https://localhost:8080/"
        },
        "id": "XF_zbJhC3YZc",
        "outputId": "29eb2849-279c-4dca-f422-94f0ec493d61"
      },
      "execution_count": null,
      "outputs": [
        {
          "output_type": "stream",
          "name": "stdout",
          "text": [
            "(50000, 32, 32, 3) (50000, 1) (10000, 32, 32, 3) (10000, 1)\n"
          ]
        }
      ]
    },
    {
      "cell_type": "code",
      "source": [
        "from keras.optimizers import SGD\n",
        "sgd=SGD(lr=0.1,decay=1e-6,\n",
        "        momentum=0.9, nesterov=True)\n",
        "model.compile(loss='categorial_cressentropy', optimizer=sgd, metrics=['accuracy'])"
      ],
      "metadata": {
        "id": "dFdy_MhF0qse"
      },
      "execution_count": null,
      "outputs": []
    },
    {
      "cell_type": "code",
      "source": [
        "# train the model\n",
        "\n",
        "train=model.fit(x_train, y_train,batch_size=64, epochs=10, verbose=1)"
      ],
      "metadata": {
        "id": "Gz9QB9t5189q"
      },
      "execution_count": null,
      "outputs": []
    },
    {
      "cell_type": "code",
      "source": [],
      "metadata": {
        "id": "adOR38o72MnO"
      },
      "execution_count": null,
      "outputs": []
    }
  ]
}