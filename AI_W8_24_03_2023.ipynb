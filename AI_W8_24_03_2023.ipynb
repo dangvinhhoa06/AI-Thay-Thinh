{
  "nbformat": 4,
  "nbformat_minor": 0,
  "metadata": {
    "colab": {
      "provenance": [],
      "authorship_tag": "ABX9TyPIEXpJnNrCQdb5DGxc5NkR",
      "include_colab_link": true
    },
    "kernelspec": {
      "name": "python3",
      "display_name": "Python 3"
    },
    "language_info": {
      "name": "python"
    }
  },
  "cells": [
    {
      "cell_type": "markdown",
      "metadata": {
        "id": "view-in-github",
        "colab_type": "text"
      },
      "source": [
        "<a href=\"https://colab.research.google.com/github/dangvinhhoa06/AI-Thay-Thinh/blob/main/AI_W8_24_03_2023.ipynb\" target=\"_parent\"><img src=\"https://colab.research.google.com/assets/colab-badge.svg\" alt=\"Open In Colab\"/></a>"
      ]
    },
    {
      "cell_type": "code",
      "source": [
        "pip install sklearn\n"
      ],
      "metadata": {
        "colab": {
          "base_uri": "https://localhost:8080/"
        },
        "id": "M7XV6DatYiQi",
        "outputId": "436dea82-9628-4f6c-b82d-295cae914c54"
      },
      "execution_count": null,
      "outputs": [
        {
          "output_type": "stream",
          "name": "stdout",
          "text": [
            "Looking in indexes: https://pypi.org/simple, https://us-python.pkg.dev/colab-wheels/public/simple/\n",
            "Requirement already satisfied: sklearn in /usr/local/lib/python3.9/dist-packages (0.0.post1)\n"
          ]
        }
      ]
    },
    {
      "cell_type": "markdown",
      "source": [
        "**Ví dụ 1**"
      ],
      "metadata": {
        "id": "Po6msgQXfDuZ"
      }
    },
    {
      "cell_type": "code",
      "execution_count": null,
      "metadata": {
        "id": "rpUoD2zLQtkK"
      },
      "outputs": [],
      "source": [
        "from sklearn.linear_model import Perceptron"
      ]
    },
    {
      "cell_type": "code",
      "source": [
        "x= [[0,0],[1,0],[0,1],[1,1]]\n",
        "y= [0,1,1,1]\n",
        "model = Perceptron ()\n",
        "model.fit(x,y)\n",
        "model.score(x,y)  #Do chinh xac ="
      ],
      "metadata": {
        "colab": {
          "base_uri": "https://localhost:8080/"
        },
        "id": "cc5QvFu8Yheh",
        "outputId": "22bcfd25-bdc3-412f-f49d-74c0bcc3ffc5"
      },
      "execution_count": null,
      "outputs": [
        {
          "output_type": "execute_result",
          "data": {
            "text/plain": [
              "1.0"
            ]
          },
          "metadata": {},
          "execution_count": 13
        }
      ]
    },
    {
      "cell_type": "code",
      "source": [
        "x1=[[-0.5,-0.5],[10,2],[-1,0.8],[3,5],[1,0.2],[-0.1,0.5]]\n",
        "y1=model.predict(x1)\n"
      ],
      "metadata": {
        "id": "kDbk934JZHUK"
      },
      "execution_count": null,
      "outputs": []
    },
    {
      "cell_type": "code",
      "source": [
        "y1"
      ],
      "metadata": {
        "colab": {
          "base_uri": "https://localhost:8080/"
        },
        "id": "5aZP3SkpZ0BX",
        "outputId": "4b173a7f-631d-4711-e737-17a087333eff"
      },
      "execution_count": null,
      "outputs": [
        {
          "output_type": "execute_result",
          "data": {
            "text/plain": [
              "array([0, 1, 0, 1, 1, 0])"
            ]
          },
          "metadata": {},
          "execution_count": 21
        }
      ]
    },
    {
      "cell_type": "code",
      "source": [
        "model.score(x1,y1) #==1 la 100%"
      ],
      "metadata": {
        "colab": {
          "base_uri": "https://localhost:8080/"
        },
        "id": "8e0MQmpmZ-PB",
        "outputId": "b5a48aa6-0849-490b-849e-042bc54c182b"
      },
      "execution_count": null,
      "outputs": [
        {
          "output_type": "execute_result",
          "data": {
            "text/plain": [
              "1.0"
            ]
          },
          "metadata": {},
          "execution_count": 20
        }
      ]
    },
    {
      "cell_type": "markdown",
      "source": [
        "Tìm điểm 0.5 0"
      ],
      "metadata": {
        "id": "LUHHdZWUcxFT"
      }
    },
    {
      "cell_type": "code",
      "source": [
        "y1=model.predict([[0.5,0]])\n",
        "y1"
      ],
      "metadata": {
        "colab": {
          "base_uri": "https://localhost:8080/"
        },
        "id": "08VlosmXbHiy",
        "outputId": "c84f7fb1-5908-48ba-c697-94edaaea4596"
      },
      "execution_count": null,
      "outputs": [
        {
          "output_type": "execute_result",
          "data": {
            "text/plain": [
              "array([0])"
            ]
          },
          "metadata": {},
          "execution_count": 24
        }
      ]
    },
    {
      "cell_type": "code",
      "source": [
        "y1=model.predict([[0,0.5]])\n",
        "y1"
      ],
      "metadata": {
        "colab": {
          "base_uri": "https://localhost:8080/"
        },
        "id": "SUzn3riJbxMB",
        "outputId": "e970652a-3883-476d-be9e-7bbc962ec81e"
      },
      "execution_count": null,
      "outputs": [
        {
          "output_type": "execute_result",
          "data": {
            "text/plain": [
              "array([0])"
            ]
          },
          "metadata": {},
          "execution_count": 25
        }
      ]
    },
    {
      "cell_type": "markdown",
      "source": [
        "Tìm điểm 0.6 0"
      ],
      "metadata": {
        "id": "l7-_POvrcuPb"
      }
    },
    {
      "cell_type": "code",
      "source": [
        "y1=model.predict([[0.6,0]])\n",
        "y1"
      ],
      "metadata": {
        "colab": {
          "base_uri": "https://localhost:8080/"
        },
        "id": "Px9yAkxAcAAy",
        "outputId": "5f4a27ce-55a3-4169-edc2-c24a0b3ed6b1"
      },
      "execution_count": null,
      "outputs": [
        {
          "output_type": "execute_result",
          "data": {
            "text/plain": [
              "array([1])"
            ]
          },
          "metadata": {},
          "execution_count": 26
        }
      ]
    },
    {
      "cell_type": "code",
      "source": [
        "y1=model.predict([[0,0.6]])\n",
        "y1"
      ],
      "metadata": {
        "colab": {
          "base_uri": "https://localhost:8080/"
        },
        "id": "VTVyvKMqcEmm",
        "outputId": "252b598b-4c61-472c-88e5-551e2d1dc55b"
      },
      "execution_count": null,
      "outputs": [
        {
          "output_type": "execute_result",
          "data": {
            "text/plain": [
              "array([1])"
            ]
          },
          "metadata": {},
          "execution_count": 27
        }
      ]
    },
    {
      "cell_type": "code",
      "source": [
        "y1=model.predict([[0.51,0]])\n",
        "y1"
      ],
      "metadata": {
        "colab": {
          "base_uri": "https://localhost:8080/"
        },
        "id": "77F5PcAqcHTL",
        "outputId": "d7bfdaaa-eb02-4aeb-d548-6b5a464b9b93"
      },
      "execution_count": null,
      "outputs": [
        {
          "output_type": "execute_result",
          "data": {
            "text/plain": [
              "array([1])"
            ]
          },
          "metadata": {},
          "execution_count": 28
        }
      ]
    },
    {
      "cell_type": "markdown",
      "source": [
        "**Bài khác bài IRIS **"
      ],
      "metadata": {
        "id": "sX_IXG_Pe86d"
      }
    },
    {
      "cell_type": "code",
      "source": [
        "from sklearn import datasets\n",
        "from sklearn.linear_model import Perceptron #mô hình\n",
        "from sklearn.model_selection import train_test_split #Tách tập dữ liệu ra thành 8 2 hoặc 7 3 để không test cái đã train\n",
        "from sklearn.metrics import accuracy_score \n",
        "from sklearn.preprocessing import StandardScaler #chuẩn hóa dữ liệu, ví dụ nhà 1 tỷ, 3000 người thì scale lại cho thành 1 chuẩn, ví dụ từ 0 đến 1"
      ],
      "metadata": {
        "id": "V_gwMAJLcT_z"
      },
      "execution_count": null,
      "outputs": []
    },
    {
      "cell_type": "code",
      "source": [
        "iris = datasets.load_iris()\n",
        "x=iris.data\n",
        "y=iris.target\n",
        "print(x[:5] )# Select everything up to and including the third element: vector[:3]\n",
        "print(y[:5])\n",
        "x_train, x_test, y_train, y_test = train_test_split(x,y,test_size=0.3)  #= train_test_split(features, target, test_size=0.1, random_state=1)\n",
        "#0.3 => 30% tỷ lệ 73\n",
        "sc=StandardScaler()   # ????\n",
        "sc.fit(x_train)   # ????\n",
        "\n",
        "x_train_std=sc.transform (x_train) # ????\n",
        "x_test_std=sc.transform (x_test)\n"
      ],
      "metadata": {
        "colab": {
          "base_uri": "https://localhost:8080/"
        },
        "id": "IyEx3gDXgVVa",
        "outputId": "288eed3a-7a30-4143-a499-eb5d385e3833"
      },
      "execution_count": null,
      "outputs": [
        {
          "output_type": "stream",
          "name": "stdout",
          "text": [
            "[[5.1 3.5 1.4 0.2]\n",
            " [4.9 3.  1.4 0.2]\n",
            " [4.7 3.2 1.3 0.2]\n",
            " [4.6 3.1 1.5 0.2]\n",
            " [5.  3.6 1.4 0.2]]\n",
            "[0 0 0 0 0]\n"
          ]
        }
      ]
    },
    {
      "cell_type": "code",
      "source": [
        "#Học 40 lần: max_iter=40, eta0 tốc độ học, tốc độ lớn ko chính xác, tg học nhanh chạy từ 0 đến 1. random_state lấy ngẫu nhiên dữ liệu\n",
        "model = Perceptron(max_iter=40, eta0=0.1, random_state=0)  \n",
        "model.fit(x_train_std, y_train) #lấy dữ liệu đã scale rồi\n",
        "y_pred=model.predict(x_test_std)\n",
        "#Đang so sánh 2 cái pred với thực\n",
        "print(y_pred)\n",
        "print(y_test)\n",
        "print(\"Độ chính xác của mô hình: \", accuracy_score(y_test, y_pred))  #So sánh độ chính xác của test. Học luôn cao hơn test"
      ],
      "metadata": {
        "colab": {
          "base_uri": "https://localhost:8080/"
        },
        "id": "qubew7Z3hv8e",
        "outputId": "3cbdc0aa-ae55-4561-a88b-5a6f619597ba"
      },
      "execution_count": null,
      "outputs": [
        {
          "output_type": "stream",
          "name": "stdout",
          "text": [
            "[0 2 1 2 2 0 0 2 0 1 2 0 1 1 0 2 1 0 2 1 1 1 1 0 1 0 1 0 1 0 2 0 2 0 0 1 1\n",
            " 1 2 1 1 0 2 1 2]\n",
            "[0 2 1 2 2 0 0 2 0 1 2 0 1 1 0 2 1 0 2 1 1 2 1 0 1 0 2 0 1 0 2 0 1 0 0 1 1\n",
            " 2 2 1 1 0 2 1 2]\n",
            "Độ chính xác của mô hình:  0.9111111111111111\n"
          ]
        }
      ]
    },
    {
      "cell_type": "markdown",
      "source": [
        "**Bài crabs**"
      ],
      "metadata": {
        "id": "NeQ2WE0DmAJ3"
      }
    },
    {
      "cell_type": "code",
      "source": [
        "import matplotlib.pyplot as plt\n",
        "from sklearn import datasets\n",
        "import pandas as pd\n",
        "import numpy as np\n",
        "from sklearn.linear_model import Perceptron #mô hình\n",
        "from sklearn.model_selection import train_test_split #Tách tập dữ liệu ra thành 8 2 hoặc 7 3 để không test cái đã train\n",
        "from sklearn.metrics import accuracy_score \n",
        "from sklearn.preprocessing import StandardScaler #chuẩn hóa dữ liệu, ví dụ nhà 1 tỷ, 3000 người thì scale lại cho thành 1 chuẩn, ví dụ từ 0 đến 1\n",
        "url ='crabs.csv'\n",
        "dataframe = pd.read_csv(url)\n",
        "dataframe.head(100) #Hiện 10 thằng đầu tiên\n",
        "\n",
        "speies=dataframe['speies'].replace([\"O\", \"B\"], [1, 0]).head(20)\n",
        "sex=dataframe['sex'].replace([\"M\", \"F\"], [1, 0]).head(20)\n",
        "#Chuyển bằng replace, đổi O thành 1, B thành 0. \n",
        "#Male thành 1, Female thành 0. Loài là input, output là giới tính đực hay cái, đám sau là input\n",
        "#7 tín hiệu vào, 1 tín hiệu ra là giới tính\n"
      ],
      "metadata": {
        "id": "ob2QEw8AlSe5"
      },
      "execution_count": null,
      "outputs": []
    },
    {
      "cell_type": "code",
      "source": [],
      "metadata": {
        "id": "pNWAUOT4s6zl"
      },
      "execution_count": null,
      "outputs": []
    }
  ]
}