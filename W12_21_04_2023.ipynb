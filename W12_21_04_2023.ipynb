{
  "nbformat": 4,
  "nbformat_minor": 0,
  "metadata": {
    "colab": {
      "provenance": []
    },
    "kernelspec": {
      "name": "python3",
      "display_name": "Python 3"
    },
    "language_info": {
      "name": "python"
    }
  },
  "cells": [
    {
      "cell_type": "code",
      "source": [
        "pip install mtcnn"
      ],
      "metadata": {
        "colab": {
          "base_uri": "https://localhost:8080/"
        },
        "id": "JLyfGtH3flSk",
        "outputId": "f1424092-aef7-4ca0-d672-39b0f34cf76b"
      },
      "execution_count": null,
      "outputs": [
        {
          "output_type": "stream",
          "name": "stdout",
          "text": [
            "Looking in indexes: https://pypi.org/simple, https://us-python.pkg.dev/colab-wheels/public/simple/\n",
            "Requirement already satisfied: mtcnn in /usr/local/lib/python3.9/dist-packages (0.1.1)\n",
            "Requirement already satisfied: opencv-python>=4.1.0 in /usr/local/lib/python3.9/dist-packages (from mtcnn) (4.7.0.72)\n",
            "Requirement already satisfied: keras>=2.0.0 in /usr/local/lib/python3.9/dist-packages (from mtcnn) (2.12.0)\n",
            "Requirement already satisfied: numpy>=1.17.3 in /usr/local/lib/python3.9/dist-packages (from opencv-python>=4.1.0->mtcnn) (1.22.4)\n"
          ]
        }
      ]
    },
    {
      "cell_type": "code",
      "source": [
        "pip install keras"
      ],
      "metadata": {
        "colab": {
          "base_uri": "https://localhost:8080/"
        },
        "id": "NZefjPSliOdS",
        "outputId": "4fb8fa95-2508-40f5-9880-2302fe515042"
      },
      "execution_count": null,
      "outputs": [
        {
          "output_type": "stream",
          "name": "stdout",
          "text": [
            "Looking in indexes: https://pypi.org/simple, https://us-python.pkg.dev/colab-wheels/public/simple/\n",
            "Requirement already satisfied: keras in /usr/local/lib/python3.9/dist-packages (2.12.0)\n"
          ]
        }
      ]
    },
    {
      "cell_type": "code",
      "source": [
        "import matplotlib.pyplot as plt\n",
        "from mtcnn import MTCNN\n",
        "filename='/content/doibong.jpg'\n",
        "img=plt.imread(filename)\n",
        "plt.imshow(img)\n",
        "detector= MTCNN()\n",
        "faces=detector.detect_faces(img)\n",
        "for face in faces:\n",
        "  print(faces)"
      ],
      "metadata": {
        "id": "4mWSF75BflQT"
      },
      "execution_count": null,
      "outputs": []
    },
    {
      "cell_type": "code",
      "source": [
        "import matplotlib.pyplot as plt\n",
        "from mtcnn import MTCNN\n",
        "\n",
        "filename='/content/doibong.jpg'\n",
        "img = plt.imread(filename)\n",
        "\n",
        "detector = MTCNN()\n",
        "faces= detector.detect_faces(img)\n",
        "ax = plt.gca()\n",
        "for face in faces:\n",
        "  x,y,width,height= face['box']\n",
        "  rect = plt.Rectangle((x,y),width,height,fill = False,color ='red')\n",
        "  ax.add_patch(rect)\n",
        "plt.imshow(img)"
      ],
      "metadata": {
        "id": "RaWsFhl8flOL"
      },
      "execution_count": null,
      "outputs": []
    },
    {
      "cell_type": "code",
      "source": [
        "import matplotlip.pylot as plt \n",
        "from mtcnn import MTCNN\n",
        "filename=' '\n",
        "img=plt.imread(filename)\n",
        "detector=MTCNN\n",
        "faces =detector.detect_face(img)\n",
        "plt.imshow(img)\n",
        "ax=plt.gcu()\n",
        "for face in faces:\n",
        "  x, y, width, height = face['box']\n",
        "  red=plt.Rectange((x,y),width, height, fill=False, color='red')\n",
        "  ax.add_patch(red)\n",
        "plt.show()"
      ],
      "metadata": {
        "id": "YvNqvO1EflL7"
      },
      "execution_count": null,
      "outputs": []
    },
    {
      "cell_type": "code",
      "execution_count": null,
      "metadata": {
        "id": "inTtevUqff9Z"
      },
      "outputs": [],
      "source": []
    }
  ]
}