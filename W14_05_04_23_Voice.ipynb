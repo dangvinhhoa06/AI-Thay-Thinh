{
  "nbformat": 4,
  "nbformat_minor": 0,
  "metadata": {
    "colab": {
      "provenance": []
    },
    "kernelspec": {
      "name": "python3",
      "display_name": "Python 3"
    },
    "language_info": {
      "name": "python"
    }
  },
  "cells": [
    {
      "cell_type": "code",
      "execution_count": null,
      "metadata": {
        "colab": {
          "base_uri": "https://localhost:8080/"
        },
        "id": "rvx24kNAhau9",
        "outputId": "18b2baaa-44b8-47cd-de48-1f2cc853d135"
      },
      "outputs": [
        {
          "output_type": "stream",
          "name": "stdout",
          "text": [
            "Looking in indexes: https://pypi.org/simple, https://us-python.pkg.dev/colab-wheels/public/simple/\n",
            "Requirement already satisfied: SpeechRecognition in /usr/local/lib/python3.10/dist-packages (3.10.0)\n",
            "Requirement already satisfied: Pydub in /usr/local/lib/python3.10/dist-packages (0.25.1)\n",
            "Requirement already satisfied: requests>=2.26.0 in /usr/local/lib/python3.10/dist-packages (from SpeechRecognition) (2.27.1)\n",
            "Requirement already satisfied: charset-normalizer~=2.0.0 in /usr/local/lib/python3.10/dist-packages (from requests>=2.26.0->SpeechRecognition) (2.0.12)\n",
            "Requirement already satisfied: idna<4,>=2.5 in /usr/local/lib/python3.10/dist-packages (from requests>=2.26.0->SpeechRecognition) (3.4)\n",
            "Requirement already satisfied: urllib3<1.27,>=1.21.1 in /usr/local/lib/python3.10/dist-packages (from requests>=2.26.0->SpeechRecognition) (1.26.15)\n",
            "Requirement already satisfied: certifi>=2017.4.17 in /usr/local/lib/python3.10/dist-packages (from requests>=2.26.0->SpeechRecognition) (2022.12.7)\n"
          ]
        }
      ],
      "source": [
        "pip install SpeechRecognition Pydub"
      ]
    },
    {
      "cell_type": "code",
      "source": [
        "import speech_recognition as sr\n",
        "r=sr.Recognizer()\n",
        "filename='/content/drive/MyDrive/Colab Notebooks/Sound/male.wav'\n",
        "with sr.AudioFile(filename) as source:\n",
        "  data=r.record(source)\n",
        "  text=r.recognize_google(data)\n",
        "print(text)"
      ],
      "metadata": {
        "colab": {
          "base_uri": "https://localhost:8080/"
        },
        "id": "gjTXi4RUhhRE",
        "outputId": "9984de25-567a-4456-9a1b-4b873028e806"
      },
      "execution_count": null,
      "outputs": [
        {
          "output_type": "stream",
          "name": "stdout",
          "text": [
            "what if somebody decides to break it be careful that you keep adequate coverage but look for places to save money baby it's taking longer to get things squared away than the bankers expected during the wife for once company may win her tax hated retirement income as helpful as our cost on the two naked bone when the title of this type of song is in question there's no dying or waxing or gassing needed maybe personalized leather hard place work on a flat surface and smooth out the simplest kind of separate system uses a single self-contained unit the old shop at it still holds a good mechanic is usually a bad boss both figures would go higher in later years doll houses at set\n"
          ]
        }
      ]
    },
    {
      "cell_type": "code",
      "source": [
        "import speech_recognition as sr\n",
        "r=sr.Recognizer()\n",
        "filename='/content/drive/MyDrive/Colab Notebooks/Sound/min.wav'\n",
        "with sr.AudioFile(filename) as source:\n",
        "  data=r.record(source)\n",
        "  text=r.recognize_google(data, language='en')\n",
        "print(text)"
      ],
      "metadata": {
        "colab": {
          "base_uri": "https://localhost:8080/"
        },
        "id": "A5gbp9_-iwZU",
        "outputId": "eecd58ab-5d0c-4cd1-ea1f-831d6b79ff9e"
      },
      "execution_count": null,
      "outputs": [
        {
          "output_type": "stream",
          "name": "stdout",
          "text": [
            "we can always improve technology with humanitarian care we can enhance the security of network by introducing Quantum cryptography we can put restrictions on AI to prevent will galavant teleportation or maybe it's too risky to transport human\n"
          ]
        }
      ]
    },
    {
      "cell_type": "markdown",
      "source": [
        "dic=('afrikaans', 'af', 'albanian', 'sq', 'amharic', 'am',  'arabic', 'ar', 'armenian', 'hy', 'azerbaijani', 'az', 'basque', 'eu', 'belarusian', 'be', 'bengali', 'bn', 'bosnian',     'bs', 'bulgarian', 'bg', 'catalan', 'ca',  'cebuano', 'ceb', 'chichewa', 'ny', 'chinese(simplified)',  'zh-cn', 'chinese (traditional)', 'zh-tw',  'corsican', 'co', 'croatian', 'hr', 'czech', 'cs', 'danish',     'da', 'dutch', 'nl', 'english', 'en', 'esperanto',  'eo', 'estonian', 'et', 'filipino', 'tl', 'finnish', 'fi',  'french', 'fr', 'frisian', 'fy', 'galician', 'gl’,   'georgian', 'ka', 'german', 'de', 'greek', 'el', 'gujarati',      'gu', 'haitian creole', 'ht', 'hausa', 'ha',   'hawaiian', 'haw', 'hebrew', 'he', 'hindi', 'hi', 'hmong',  'hmn', 'hungarian', 'hu', 'icelandic', 'is', 'igbo’, 'ig', 'indonesian', 'id', 'irish', 'ga', 'italian', 'it', 'japanese', 'ja', 'javanese', 'jw', 'kannada', 'kn',  'kazakh', 'kk', 'khmer', 'km', 'korean', 'ko', 'kurdish (kurmanji)’, 'ku', 'kyrgyz', 'ky', 'lao', 'lo', 'latin', 'la', 'latvian', 'lv', 'lithuanian', 'lt', 'luxembourgish’,  'lb', 'macedonian', 'mk','malagasy’,  'mg', 'malay', 'ms', 'malayalam', 'ml', 'maltese', 'mt', 'maori’,  'mi', 'marathi', 'mr', 'mongolian', 'mn’, 'myanmar (burmese)', 'my', 'nepali', 'ne', 'norwegian', 'no’, 'odia', 'or', 'pashto', 'ps', 'persian’, 'fa', 'polish', 'pl', 'portuguese', 'pt', 'punjabi', 'pa’, 'romanian', 'ro', 'russian', 'ru', 'samoan’, 'sm', 'scots gaelic', 'gd', 'serbian', 'sr', 'sesotho', 'st', 'shona', 'sn', 'sindhi', 'sd', 'sinhala’, 'si', 'slovak', 'sk', 'slovenian', 'sl', 'somali', 'so', 'spanish', 'es', 'sundanese', 'su', 'swahili', 'sw', 'swedish', 'sv', 'tajik', 'tg', 'tamil’, 'ta', 'telugu', 'te', 'thai', 'th', 'turkish', 'tr’, 'ukrainian', 'uk', 'urdu', 'ur', 'uyghur', 'ug', 'uzbek', 'uz', 'vietnamese', 'vi', 'welsh', 'cy', 'xhosa', 'xh’, 'yiddish', 'yi', 'yoruba', 'yo', 'zulu', 'zu')"
      ],
      "metadata": {
        "id": "fA6slRElk6Z8"
      }
    },
    {
      "cell_type": "code",
      "source": [
        "import speech_recognition as sr\n",
        "r=sr.Recognizer()\n",
        "filename='/content/drive/MyDrive/Colab Notebooks/Sound/EasyThai2ThebestPlacesofThailand.wav'\n",
        "with sr.AudioFile(filename) as source:\n",
        "  data=r.record(source)\n",
        "  text=r.recognize_google(data, language='th')\n",
        "print(text)"
      ],
      "metadata": {
        "id": "2suZN7L4kGHp"
      },
      "execution_count": null,
      "outputs": []
    },
    {
      "cell_type": "code",
      "source": [
        "import speech_recognition as sr\n",
        "r=sr.Recognizer()\n",
        "test=sr.AudioFile('/content/drive/MyDrive/Colab Notebooks/Sound/mp3/bigcirculationboi.wav')\n",
        "with test as source:\n",
        "  audio=r.record(source, offset=1, duration=50) #offset: thoi gian cat, #duration: thoi gian sau khi cat\n",
        "  #audio=r.record(source)\n",
        "  text=r.recognize_google(audio, language='vi')\n",
        "print(text)"
      ],
      "metadata": {
        "colab": {
          "base_uri": "https://localhost:8080/"
        },
        "id": "C90aynzQn2z6",
        "outputId": "6049e44c-7d54-49e6-f360-c9ba54e6b8f8"
      },
      "execution_count": null,
      "outputs": [
        {
          "output_type": "stream",
          "name": "stdout",
          "text": [
            "không phải anh nói cho em nghe\n"
          ]
        }
      ]
    },
    {
      "cell_type": "code",
      "source": [
        "import speech_recognition as sr\n",
        "r=sr.Recognizer()\n",
        "test=sr.AudioFile('/content/drive/MyDrive/Colab Notebooks/Sound/mp3/imaseNIGHTDANCERMV.wav')\n",
        "with test as source:\n",
        "  audio1=r.record(source, offset=1, duration=50)\n",
        "  audio2=r.record(source, offset=24, duration=50)\n",
        "  #audio=r.record(source)\n",
        "  text1=r.recognize_google(audio1, language='ja')\n",
        "  text2=r.recognize_google(audio2, language='ja')\n",
        "print(text1)\n",
        "print(text2)"
      ],
      "metadata": {
        "id": "on0FeKuWrh77",
        "colab": {
          "base_uri": "https://localhost:8080/"
        },
        "outputId": "7baceea0-0b8d-4961-eda5-07f055f587cb"
      },
      "execution_count": null,
      "outputs": [
        {
          "output_type": "stream",
          "name": "stdout",
          "text": [
            "どうでもいいような夜だけど 表面 ききらめきと君もまだ止まった 刻む 二人をよく流した 引き上げるほど変わらない\n",
            "夜だけど投票 目 きらめきと君も好きとおった白い肌のその笑った無邪気な顔も変わらないね\n"
          ]
        }
      ]
    },
    {
      "cell_type": "code",
      "source": [
        "import speech_recognition as sr\n",
        "r=sr.Recognizer()\n",
        "test=sr.AudioFile('/content/drive/MyDrive/Colab Notebooks/Sound/mp3/Summertime.wav')\n",
        "with test as source:\n",
        "  audio=r.record(source, offset=1, duration=50) #offset: thoi gian cat, #duration: thoi gian sau khi cat\n",
        "  #audio=r.record(source)\n",
        "  text=r.recognize_google(audio, language='ja')\n",
        "print(text)"
      ],
      "metadata": {
        "colab": {
          "base_uri": "https://localhost:8080/"
        },
        "id": "Sv2_NHaVtXLa",
        "outputId": "ae546995-27b7-48fc-e14c-7635f9ebba6a"
      },
      "execution_count": null,
      "outputs": [
        {
          "output_type": "stream",
          "name": "stdout",
          "text": [
            "君の虜になってしまえばきっとこの夏は充実するのもっともう戻れなくたって忘れないで 何年経っても言えない さって構わないでも 言葉はここまで出てるの 姉さまたい感動を歩きたい\n"
          ]
        }
      ]
    },
    {
      "cell_type": "code",
      "source": [
        "import speech_recognition as sr\n",
        "r=sr.Recognizer()\n",
        "test=sr.AudioFile('/content/drive/MyDrive/Colab Notebooks/Sound/mp3/ChắcAiĐóSẽVềSơnTùngM-TP_-1075109848.wav')\n",
        "with test as source:\n",
        "  audio1=r.record(source, offset=11, duration=50) #Dừng lại ở giây thứ 58 trong file\n",
        "  #audio2=r.record(source, offset=24, duration=50)\n",
        "  text1=r.recognize_google(audio1, language='vi')\n",
        "  #text2=r.recognize_google(audio2, language='vi')\n",
        "print(text1)\n",
        "#print(text2)"
      ],
      "metadata": {
        "colab": {
          "base_uri": "https://localhost:8080/"
        },
        "id": "_Pl2nWKTtcRG",
        "outputId": "93eeffd8-a117-48a2-ad60-4cb9fef8173a"
      },
      "execution_count": null,
      "outputs": [
        {
          "output_type": "stream",
          "name": "stdout",
          "text": [
            "Anh tìm nỗi nhớ anh tìm quá khứ nhớ lắm kí ức anh và em trả lại anh yêu thương ấy xin ngài hãy về nơi đây bạn tình yêu em còn yêu em ở lại những giọt nước mắt lăn dài trên người cứ thế anh biết phải làm sao Tình yêu trong em đã mơ phải dẫn đi theo gió bay Còn lại chỉ nơi đây cô đơn tiếng Anh đi xa quá em đi xa quá\n"
          ]
        }
      ]
    },
    {
      "cell_type": "code",
      "source": [
        "import speech_recognition as sr\n",
        "r=sr.Recognizer()\n",
        "test=sr.AudioFile('/content/drive/MyDrive/Colab Notebooks/Sound/mp3/ConCoBeBe.wav')\n",
        "with test as source:\n",
        "  audio1=r.record(source, offset=31, duration=150) #Dừng lại ở giây thứ 58 trong file\n",
        "  #audio2=r.record(source, offset=24, duration=50)\n",
        "  text1=r.recognize_google(audio1, language='vi')\n",
        "  #text2=r.recognize_google(audio2, language='vi')\n",
        "print(text1)\n",
        "#print(text2)"
      ],
      "metadata": {
        "colab": {
          "base_uri": "https://localhost:8080/"
        },
        "id": "ij_U3jc7wSbB",
        "outputId": "661ebf01-a567-4618-d3e3-a8e603deea04"
      },
      "execution_count": null,
      "outputs": [
        {
          "output_type": "stream",
          "name": "stdout",
          "text": [
            "Con cò bé bé nó đậu cành tre Đi không hỏi mẹ biết đi đường nào Con cò bé bé chào chúng có em không Con cò bé bé nó đậu cành tre Đi không hỏi mẹ biết đi chào mẹ em chúm chím mẹ có yêu không nào con cò bé bé nó đậu cành tre Đi không hỏi mẹ biết đi Mẹ có yêu con cò bé bé\n"
          ]
        }
      ]
    },
    {
      "cell_type": "code",
      "source": [
        "import speech_recognition as sr\n",
        "r=sr.Recognizer()\n",
        "test=sr.AudioFile('/content/drive/MyDrive/Colab Notebooks/Sound/mp3/NoiNayCoAnh-SonTungMTP-4772041.wav')\n",
        "with test as source:\n",
        "  audio1=r.record(source, offset=20, duration=50) #Dừng lại ở giây thứ 58 trong file\n",
        "  #audio2=r.record(source, offset=24, duration=50)\n",
        "  text1=r.recognize_google(audio1, language='vi')\n",
        "  #text2=r.recognize_google(audio2, language='vi')\n",
        "print(text1)\n",
        "#print(text2)"
      ],
      "metadata": {
        "colab": {
          "base_uri": "https://localhost:8080/"
        },
        "id": "cuNUOVJNxk7q",
        "outputId": "79e11669-df99-4268-90a5-5975898dbb35"
      },
      "execution_count": null,
      "outputs": [
        {
          "output_type": "stream",
          "name": "stdout",
          "text": [
            "đâu bước đến nơi đây dịu dàng chân tường là ai Tôi như ánh nắng ban mai ngọt ngào trong tình yêu thế nói gió bay cao bầu trời trong xanh\n"
          ]
        }
      ]
    },
    {
      "cell_type": "markdown",
      "source": [
        "Text to speech"
      ],
      "metadata": {
        "id": "Ha3uw_xJzIEl"
      }
    },
    {
      "cell_type": "code",
      "source": [
        "pip install gTTs"
      ],
      "metadata": {
        "colab": {
          "base_uri": "https://localhost:8080/"
        },
        "id": "dF0Y-E8TyKHy",
        "outputId": "4d7f33ba-e891-4025-edca-67f96202fd74"
      },
      "execution_count": null,
      "outputs": [
        {
          "output_type": "stream",
          "name": "stdout",
          "text": [
            "Looking in indexes: https://pypi.org/simple, https://us-python.pkg.dev/colab-wheels/public/simple/\n",
            "Collecting gTTs\n",
            "  Downloading gTTS-2.3.2-py3-none-any.whl (28 kB)\n",
            "Requirement already satisfied: click<8.2,>=7.1 in /usr/local/lib/python3.10/dist-packages (from gTTs) (8.1.3)\n",
            "Requirement already satisfied: requests<3,>=2.27 in /usr/local/lib/python3.10/dist-packages (from gTTs) (2.27.1)\n",
            "Requirement already satisfied: charset-normalizer~=2.0.0 in /usr/local/lib/python3.10/dist-packages (from requests<3,>=2.27->gTTs) (2.0.12)\n",
            "Requirement already satisfied: urllib3<1.27,>=1.21.1 in /usr/local/lib/python3.10/dist-packages (from requests<3,>=2.27->gTTs) (1.26.15)\n",
            "Requirement already satisfied: certifi>=2017.4.17 in /usr/local/lib/python3.10/dist-packages (from requests<3,>=2.27->gTTs) (2022.12.7)\n",
            "Requirement already satisfied: idna<4,>=2.5 in /usr/local/lib/python3.10/dist-packages (from requests<3,>=2.27->gTTs) (3.4)\n",
            "Installing collected packages: gTTs\n",
            "Successfully installed gTTs-2.3.2\n"
          ]
        }
      ]
    },
    {
      "cell_type": "code",
      "source": [
        "from gtts import gTTS\n",
        "import os #Tren Anaconda hoac cac cong cu khac ngoai Colab thi can import them os. Colab khong can"
      ],
      "metadata": {
        "id": "10tplFMFzTsc"
      },
      "execution_count": null,
      "outputs": []
    },
    {
      "cell_type": "code",
      "source": [
        "A='Anh tìm nỗi nhớ anh tìm quá khứ\\\n",
        "  Nhớ lắm kí ức anh và em\\\n",
        "  Trả lại anh yêu thương ấy\\\n",
        "  Xin người hãy về nơi đây\\\n",
        "  Bàn tay yếu ớt cố níu em ở lại'"
      ],
      "metadata": {
        "id": "kWIxrENMz0xX"
      },
      "execution_count": null,
      "outputs": []
    },
    {
      "cell_type": "code",
      "source": [
        "speak=gTTS(text=A, lang='vi', slow=False) #False: Không đọc chậm\n",
        "speak.save('ChacAiDoSeVe.mp3')\n",
        "#playsound('Text1.mp3') #Không làm được trên Colab\n",
        "#os.remove('Text1.mp3')"
      ],
      "metadata": {
        "id": "dX5wZyaJ0w2d"
      },
      "execution_count": null,
      "outputs": []
    },
    {
      "cell_type": "code",
      "source": [
        "\n",
        "B='''BBC Learning English is a department of the BBC World Service devoted to English language teaching.\n",
        "The service provides free resources and activities for teachers and students, primarily through its\\\n",
        " website. It also produces radio programmes which air on some of the BBC World Service's \\\n",
        " language services and partner stations. It has won numerous awards, including two Eltons from the\\\n",
        "  British Council and an English Speaking Union award for innovation in English language teaching.'''\n",
        "speak=gTTS(text=B, lang='en', slow=False) #False: Không đọc chậm\n",
        "speak.save('BBC.mp3')"
      ],
      "metadata": {
        "id": "O6vlDtiU1ZT0"
      },
      "execution_count": null,
      "outputs": []
    },
    {
      "cell_type": "markdown",
      "source": [
        "Dich Van ban"
      ],
      "metadata": {
        "id": "QGbazXK03yks"
      }
    },
    {
      "cell_type": "code",
      "source": [
        "!pip install googletrans==3.1.0a0"
      ],
      "metadata": {
        "colab": {
          "base_uri": "https://localhost:8080/"
        },
        "id": "YRh0fHjr3hzc",
        "outputId": "a71097f1-4ea7-4692-af29-527a84d634f4"
      },
      "execution_count": null,
      "outputs": [
        {
          "output_type": "stream",
          "name": "stdout",
          "text": [
            "Looking in indexes: https://pypi.org/simple, https://us-python.pkg.dev/colab-wheels/public/simple/\n",
            "Requirement already satisfied: googletrans==3.1.0a0 in /usr/local/lib/python3.10/dist-packages (3.1.0a0)\n",
            "Requirement already satisfied: httpx==0.13.3 in /usr/local/lib/python3.10/dist-packages (from googletrans==3.1.0a0) (0.13.3)\n",
            "Requirement already satisfied: hstspreload in /usr/local/lib/python3.10/dist-packages (from httpx==0.13.3->googletrans==3.1.0a0) (2023.1.1)\n",
            "Requirement already satisfied: certifi in /usr/local/lib/python3.10/dist-packages (from httpx==0.13.3->googletrans==3.1.0a0) (2022.12.7)\n",
            "Requirement already satisfied: idna==2.* in /usr/local/lib/python3.10/dist-packages (from httpx==0.13.3->googletrans==3.1.0a0) (2.10)\n",
            "Requirement already satisfied: rfc3986<2,>=1.3 in /usr/local/lib/python3.10/dist-packages (from httpx==0.13.3->googletrans==3.1.0a0) (1.5.0)\n",
            "Requirement already satisfied: chardet==3.* in /usr/local/lib/python3.10/dist-packages (from httpx==0.13.3->googletrans==3.1.0a0) (3.0.4)\n",
            "Requirement already satisfied: sniffio in /usr/local/lib/python3.10/dist-packages (from httpx==0.13.3->googletrans==3.1.0a0) (1.3.0)\n",
            "Requirement already satisfied: httpcore==0.9.* in /usr/local/lib/python3.10/dist-packages (from httpx==0.13.3->googletrans==3.1.0a0) (0.9.1)\n",
            "Requirement already satisfied: h11<0.10,>=0.8 in /usr/local/lib/python3.10/dist-packages (from httpcore==0.9.*->httpx==0.13.3->googletrans==3.1.0a0) (0.9.0)\n",
            "Requirement already satisfied: h2==3.* in /usr/local/lib/python3.10/dist-packages (from httpcore==0.9.*->httpx==0.13.3->googletrans==3.1.0a0) (3.2.0)\n",
            "Requirement already satisfied: hpack<4,>=3.0 in /usr/local/lib/python3.10/dist-packages (from h2==3.*->httpcore==0.9.*->httpx==0.13.3->googletrans==3.1.0a0) (3.0.0)\n",
            "Requirement already satisfied: hyperframe<6,>=5.2.0 in /usr/local/lib/python3.10/dist-packages (from h2==3.*->httpcore==0.9.*->httpx==0.13.3->googletrans==3.1.0a0) (5.2.0)\n"
          ]
        }
      ]
    },
    {
      "cell_type": "code",
      "source": [
        "from googletrans import Translator\n",
        "translator =Translator()\n",
        "translation =translator.translate('Áo mặc sao qua khỏi đầu', dest='en')\n",
        "print(translation.text)"
      ],
      "metadata": {
        "colab": {
          "base_uri": "https://localhost:8080/"
        },
        "id": "9I-lWDJb32yQ",
        "outputId": "6723ab9a-cc64-42e6-fef4-6ee59c1e88a3"
      },
      "execution_count": null,
      "outputs": [
        {
          "output_type": "stream",
          "name": "stdout",
          "text": [
            "Dress with stars over your head\n"
          ]
        }
      ]
    },
    {
      "cell_type": "code",
      "source": [
        "from gtts import gTTS\n",
        "import os\n",
        "from googletrans import Translator\n",
        "lg='vi'\n",
        "translator =Translator()\n",
        "translation =translator.translate('''\n",
        "君の虜になってしまえばきっと\\\n",
        "この夏は充実するのもっと\\\n",
        "もう戻れなくたって忘れないで\\\n",
        "何年経っても言えない\\\n",
        "後悔したって構わない\\\n",
        "でも言葉はここまで出てるの\\\n",
        "ねぇ サマータイム\\\n",
        "海岸通りを歩きたい\\\n",
        "ドライブだってしてみたい\\\n",
        "ただ視線を合わせて欲しいの\\\n",
        "ねぇ サマータイム\\\n",
        "夜明けまで海辺走って\\\n",
        "潮騒に包まれたいね\\\n",
        "彼女の仕草が甘いね\\\n",
        "君の虜になってしまえばきっと\\\n",
        "この夏は充実するのもっと\\\n",
        "噂のドリーミンガール、忘れないで\\\n",
        "でも気持ちを伝えてしまえばいつか\\\n",
        "この夢は覚めてしまうだろうな\\\n",
        "青い影が揺れる街角\\\n",
        "占いなんて信じない\\\n",
        "運命なんてあるわけない\\\n",
        "ただ本当のことを知りたいの\\\n",
        "ねぇ サマータイム\\\n",
        "近付く距離にも気づかない\\\n",
        "胸の高鳴りごまかせない\\\n",
        "でも昔と変わらずニブいの\\\n",
        "ねぇ サマータイム\\\n",
        "思い出は色褪せたって\\\n",
        "惚れた腫れたの仲がいいね\\\n",
        "彼女の笑顔が憎いね\\\n",
        "君の虜になってしまえばきっと\\\n",
        "この夏は充実するのもっと\\\n",
        "噂のドリーミンガール、忘れないで\\\n",
        "でも気持ちを伝えてしまえばいつか\\\n",
        "この夢は覚めてしまうだろうな\\\n",
        "青い影が揺れる\\\n",
        "君の虜になってしまえばきっと\\\n",
        "この夏は充実するのもっと\\\n",
        "噂のドリーミンガール、忘れないで\\\n",
        "でも気持ちを伝えてしまえばいつか\\\n",
        "この夢は覚めてしまうだろうな\\\n",
        "青い影が揺れる街角\\\n",
        "''', dest=lg)\n",
        "print(translation.text)\n",
        "T=translation.text\n",
        "speak=gTTS(text=T, lang=lg, slow=False) #False: Không đọc chậm\n",
        "speak.save('summertime.mp3')"
      ],
      "metadata": {
        "colab": {
          "base_uri": "https://localhost:8080/"
        },
        "id": "LZUYaEF84kyC",
        "outputId": "b208a7cf-678e-4d41-9d03-74c4f4f451c0"
      },
      "execution_count": null,
      "outputs": [
        {
          "output_type": "stream",
          "name": "stdout",
          "text": [
            "Nếu tôi trở thành tù nhân của bạn, tôi chắc chắn rằng mùa hè này sẽ được thỏa mãn Đừng quên rằng tôi không thể quay lại nữa Tôi không thể nói điều đó ngay cả khi đã nhiều năm Tôi không quan tâm nếu tôi hối tiếc Mùa hè tôi chỉ muốn em nhìn tôi Mùa hè Đừng quên, nhưng nếu tôi nói cho bạn biết cảm giác của tôi, một ngày nào đó tôi sẽ thức dậy khỏi giấc mơ này Tôi không tin vào lời bói toán Góc phố nơi những bóng xanh đung đưa Không có chuyện đó đâu thứ như là định mệnh Anh chỉ muốn biết sự thật Anh không thể che đậy tiếng sét nhưng nó vẫn giống như trước đây Mùa hè Mặc dù ký ức của anh đã phai mờ Anh đã yêu em Anh đang sưng lên Chúng ta vẫn ổn điều khoản Tôi ghét nụ cười của cô ấy Cô gái mơ mộng, đừng quên nhưng nếu tôi nói cho bạn biết cảm giác của tôi, một ngày nào đó tôi sẽ thức dậy khỏi giấc mơ này Nếu tôi bị quyến rũ bởi cái bóng xanh đung đưa của bạn, mùa hè này chắc chắn sẽ mãn nguyện Tôi sẽ' Đừng quên cô gái đang mơ trong tin đồn Nhưng nếu tôi nói cho bạn biết cảm giác của tôi, một ngày nào đó tôi sẽ tỉnh dậy khỏi giấc mơ này.\n"
          ]
        }
      ]
    },
    {
      "cell_type": "code",
      "source": [
        "import speech_recognition as sr\n",
        "r=sr.Recognizer()\n",
        "test=sr.AudioFile('/content/drive/MyDrive/Colab Notebooks/Sound/mp3/NoiNayCoAnh-SonTungMTP-4772041.wav')\n",
        "with test as source:\n",
        "  audio1=r.record(source, offset=20, duration=4.5) #Dừng lại ở giây thứ 58 trong file\n",
        "  audio2=r.record(source, offset=26, duration=4.3)\n",
        "  text1=r.recognize_google(audio1, language='vi')\n",
        "  text2=r.recognize_google(audio2, language='vi')\n",
        "print(text1)\n",
        "print(text2)\n",
        "from gtts import gTTS\n",
        "import os\n",
        "from googletrans import Translator\n",
        "lg='en'\n",
        "translator =Translator()\n",
        "translation =translator.translate(text1, dest=lg)\n",
        "translation1 =translator.translate(text2, dest=lg)\n",
        "print(translation.text)\n",
        "print(translation1.text)\n",
        "T=translation.text\n",
        "T1=translation1.text\n",
        "speak=gTTS(text=T, lang=lg, slow=False) #False: Không đọc chậm\n",
        "speak.save('NoiNayCoAnh.mp3')"
      ],
      "metadata": {
        "colab": {
          "base_uri": "https://localhost:8080/"
        },
        "id": "_QOfxfni5iCi",
        "outputId": "060e9faf-39cc-4777-d2d0-0c936f3021e9"
      },
      "execution_count": null,
      "outputs": [
        {
          "output_type": "stream",
          "name": "stdout",
          "text": [
            "đâu bước đến nơi đây\n",
            "where to step here?\n"
          ]
        }
      ]
    },
    {
      "cell_type": "markdown",
      "source": [
        "Nhận dạng ký tự quang - OCR"
      ],
      "metadata": {
        "id": "KbVFfA-K_C5q"
      }
    },
    {
      "cell_type": "code",
      "source": [
        "!pip install pytesseract"
      ],
      "metadata": {
        "colab": {
          "base_uri": "https://localhost:8080/"
        },
        "id": "eWMxeXcI-F71",
        "outputId": "7a87be1b-15e6-40aa-ad6a-04edf2b10c8c"
      },
      "execution_count": null,
      "outputs": [
        {
          "output_type": "stream",
          "name": "stdout",
          "text": [
            "Looking in indexes: https://pypi.org/simple, https://us-python.pkg.dev/colab-wheels/public/simple/\n",
            "Requirement already satisfied: pytesseract in /usr/local/lib/python3.10/dist-packages (0.3.10)\n",
            "Requirement already satisfied: Pillow>=8.0.0 in /usr/local/lib/python3.10/dist-packages (from pytesseract) (8.4.0)\n",
            "Requirement already satisfied: packaging>=21.3 in /usr/local/lib/python3.10/dist-packages (from pytesseract) (23.1)\n"
          ]
        }
      ]
    },
    {
      "cell_type": "code",
      "source": [
        "!sudo apt install tesseract-ocr"
      ],
      "metadata": {
        "colab": {
          "base_uri": "https://localhost:8080/"
        },
        "id": "jA_iXb8X_Vg4",
        "outputId": "be0ff6ae-222d-44dd-a0a3-284e3a6bb180"
      },
      "execution_count": null,
      "outputs": [
        {
          "output_type": "stream",
          "name": "stdout",
          "text": [
            "Reading package lists... Done\n",
            "Building dependency tree       \n",
            "Reading state information... Done\n",
            "tesseract-ocr is already the newest version (4.1.1-2build2).\n",
            "0 upgraded, 0 newly installed, 0 to remove and 24 not upgraded.\n"
          ]
        }
      ]
    },
    {
      "cell_type": "code",
      "source": [
        "from PIL import Image\n",
        "import pytesseract\n",
        "import numpy as np\n",
        "import matplotlib.pyplot as plt\n",
        "filename ='/content/1.jpg'  #jpg or png\n",
        "img=plt.imread(filename)\n",
        "plt.imshow(img)\n",
        "plt.show()\n",
        "img1=np.array(Image.open(filename))\n",
        "text=pytesseract.image_to_string(img1)\n",
        "print(text)"
      ],
      "metadata": {
        "colab": {
          "base_uri": "https://localhost:8080/",
          "height": 504
        },
        "id": "08zELDwd_cxC",
        "outputId": "0eded381-39be-4880-98dd-08e08f9f776f"
      },
      "execution_count": null,
      "outputs": [
        {
          "output_type": "display_data",
          "data": {
            "text/plain": [
              "<Figure size 640x480 with 1 Axes>"
            ],
            "image/png": "[encoded data removed]"
          },
          "metadata": {}
        },
        {
          "output_type": "stream",
          "name": "stdout",
          "text": [
            "You are the\n",
            "greatest project you\n",
            "will ever work on.\n",
            "\f\n"
          ]
        }
      ]
    },
    {
      "cell_type": "code",
      "source": [
        "pip install opencv-python\n"
      ],
      "metadata": {
        "colab": {
          "base_uri": "https://localhost:8080/"
        },
        "id": "zl5Et1gVCcWL",
        "outputId": "bb0ef863-0979-4d16-d02c-6e6914ce37b9"
      },
      "execution_count": null,
      "outputs": [
        {
          "output_type": "stream",
          "name": "stdout",
          "text": [
            "Looking in indexes: https://pypi.org/simple, https://us-python.pkg.dev/colab-wheels/public/simple/\n",
            "Requirement already satisfied: opencv-python in /usr/local/lib/python3.10/dist-packages (4.7.0.72)\n",
            "Requirement already satisfied: numpy>=1.19.3 in /usr/local/lib/python3.10/dist-packages (from opencv-python) (1.22.4)\n"
          ]
        }
      ]
    },
    {
      "cell_type": "code",
      "source": [
        "from pytesseract import Output\n",
        "import pytesseract\n",
        "import cv2\n",
        "results=pytesseract.image_to_data(img1, output_type=Output.DICT)\n",
        "print(results)"
      ],
      "metadata": {
        "colab": {
          "base_uri": "https://localhost:8080/"
        },
        "id": "vSyRU2NBAB8m",
        "outputId": "a7e92e76-c4c6-4522-89fa-8910eb72d68d"
      },
      "execution_count": null,
      "outputs": [
        {
          "output_type": "stream",
          "name": "stdout",
          "text": [
            "{'level': [1, 2, 3, 4, 5, 5, 5, 4, 5, 5, 5, 4, 5, 5, 5, 5], 'page_num': [1, 1, 1, 1, 1, 1, 1, 1, 1, 1, 1, 1, 1, 1, 1, 1], 'block_num': [0, 1, 1, 1, 1, 1, 1, 1, 1, 1, 1, 1, 1, 1, 1, 1], 'par_num': [0, 0, 1, 1, 1, 1, 1, 1, 1, 1, 1, 1, 1, 1, 1, 1], 'line_num': [0, 0, 0, 1, 1, 1, 1, 2, 2, 2, 2, 3, 3, 3, 3, 3], 'word_num': [0, 0, 0, 0, 1, 2, 3, 0, 1, 2, 3, 0, 1, 2, 3, 4], 'left': [0, 155, 155, 256, 256, 354, 437, 155, 155, 351, 520, 178, 178, 272, 383, 514], 'top': [0, 554, 554, 554, 560, 569, 554, 618, 623, 618, 627, 671, 671, 686, 671, 686], 'width': [736, 447, 447, 249, 77, 64, 68, 447, 175, 152, 82, 402, 72, 92, 111, 66], 'height': [1308, 158, 158, 41, 35, 26, 41, 49, 44, 48, 35, 41, 40, 26, 40, 25], 'conf': [-1, -1, -1, -1, 96, 95, 95, -1, 96, 95, 86, -1, 95, 95, 96, 96], 'text': ['', '', '', '', 'You', 'are', 'the', '', 'greatest', 'project', 'you', '', 'will', 'ever', 'work', 'on.']}\n"
          ]
        }
      ]
    },
    {
      "cell_type": "code",
      "source": [
        "from PIL import Image\n",
        "import pytesseract\n",
        "import numpy as np\n",
        "import matplotlib.pyplot as plt\n",
        "filename ='/content/1.jpg'  #jpg or png\n",
        "img=plt.imread(filename)\n",
        "plt.imshow(img)\n",
        "plt.show()\n",
        "img1=np.array(Image.open(filename))\n",
        "text=pytesseract.image_to_string(img1)\n",
        "print(text)\n",
        "from pytesseract import Output\n",
        "import pytesseract\n",
        "import cv2\n",
        "results=pytesseract.image_to_data(img1, output_type=Output.DICT)\n",
        "print(results)"
      ],
      "metadata": {
        "colab": {
          "base_uri": "https://localhost:8080/",
          "height": 542
        },
        "id": "gupCgROFCpMr",
        "outputId": "c25baee7-a361-468e-e973-66b7d819d7b5"
      },
      "execution_count": null,
      "outputs": [
        {
          "output_type": "display_data",
          "data": {
            "text/plain": [
              "<Figure size 640x480 with 1 Axes>"
            ],
            "image/png": "[encoded data removed]"
          },
          "metadata": {}
        },
        {
          "output_type": "stream",
          "name": "stdout",
          "text": [
            "You are the\n",
            "greatest project you\n",
            "will ever work on.\n",
            "\f\n",
            "{'level': [1, 2, 3, 4, 5, 5, 5, 4, 5, 5, 5, 4, 5, 5, 5, 5], 'page_num': [1, 1, 1, 1, 1, 1, 1, 1, 1, 1, 1, 1, 1, 1, 1, 1], 'block_num': [0, 1, 1, 1, 1, 1, 1, 1, 1, 1, 1, 1, 1, 1, 1, 1], 'par_num': [0, 0, 1, 1, 1, 1, 1, 1, 1, 1, 1, 1, 1, 1, 1, 1], 'line_num': [0, 0, 0, 1, 1, 1, 1, 2, 2, 2, 2, 3, 3, 3, 3, 3], 'word_num': [0, 0, 0, 0, 1, 2, 3, 0, 1, 2, 3, 0, 1, 2, 3, 4], 'left': [0, 155, 155, 256, 256, 354, 437, 155, 155, 351, 520, 178, 178, 272, 383, 514], 'top': [0, 554, 554, 554, 560, 569, 554, 618, 623, 618, 627, 671, 671, 686, 671, 686], 'width': [736, 447, 447, 249, 77, 64, 68, 447, 175, 152, 82, 402, 72, 92, 111, 66], 'height': [1308, 158, 158, 41, 35, 26, 41, 49, 44, 48, 35, 41, 40, 26, 40, 25], 'conf': [-1, -1, -1, -1, 96, 95, 95, -1, 96, 95, 86, -1, 95, 95, 96, 96], 'text': ['', '', '', '', 'You', 'are', 'the', '', 'greatest', 'project', 'you', '', 'will', 'ever', 'work', 'on.']}\n"
          ]
        }
      ]
    },
    {
      "cell_type": "code",
      "source": [
        "for i in range (0, len(results['text'])):  #Truy xuat du lieu   #Đóng khung chữ trong hình\n",
        "  x= results['left'][i] #Ban dau la so 0\n",
        "  y= results['top'][i]\n",
        "  w= results['width'][i]\n",
        "  h= results['height'][i]\n",
        "  text= results['text'][i]\n",
        "  conf=int(results['conf'][i])    #Độ chính xác, độ tự tin\n",
        "  if conf>70:\n",
        "    text=''.join([c if ord(c)<128 else '' for c in text]).strip()\n",
        "    cv2.rectangle(img1, (x,y), (x+w, y+h),(0,255,0),2)\n",
        "    cv2.putText(img1, text, (x,y-10),cv2.FONT_HERSHEY_SIMPLEX, 0.5, (0,0,200),2)\n",
        "plt.imshow(img1)"
      ],
      "metadata": {
        "colab": {
          "base_uri": "https://localhost:8080/",
          "height": 452
        },
        "id": "vluLzkadDJC5",
        "outputId": "f71ed995-2d67-4ec1-984d-6b6a23b84781"
      },
      "execution_count": null,
      "outputs": [
        {
          "output_type": "execute_result",
          "data": {
            "text/plain": [
              "<matplotlib.image.AxesImage at 0x7fc765ba8340>"
            ]
          },
          "metadata": {},
          "execution_count": 113
        },
        {
          "output_type": "display_data",
          "data": {
            "text/plain": [
              "<Figure size 640x480 with 1 Axes>"
            ],
            "image/png": "[encoded data removed]"
          },
          "metadata": {}
        }
      ]
    },
    {
      "cell_type": "code",
      "source": [
        "from PIL import Image\n",
        "import pytesseract\n",
        "import numpy as np\n",
        "import matplotlib.pyplot as plt\n",
        "filename ='/content/1.jpg'  #jpg or png\n",
        "img=plt.imread(filename)\n",
        "plt.imshow(img)\n",
        "plt.show()\n",
        "img1=np.array(Image.open(filename))\n",
        "text=pytesseract.image_to_string(img1)\n",
        "print(text)\n",
        "from pytesseract import Output\n",
        "import pytesseract\n",
        "import cv2\n",
        "results=pytesseract.image_to_data(img1, output_type=Output.DICT)\n",
        "print(results)\n",
        "for i in range (0, len(results['text'])):  #Truy xuat du lieu   #Đóng khung chữ trong hình\n",
        "  x= results['left'][i] #Ban dau la so 0\n",
        "  y= results['top'][i]\n",
        "  w= results['width'][i]\n",
        "  h= results['height'][i]\n",
        "  text= results['text'][i]\n",
        "  conf=int(results['conf'][i])    #Độ chính xác, độ tự tin\n",
        "  if conf>70:\n",
        "    text=''.join([c if ord(c)<128 else '' for c in text]).strip()\n",
        "    cv2.rectangle(img1, (x,y), (x+w, y+h),(0,255,0),2)  # màu đa phổ\n",
        "    cv2.putText(img1, text, (x,y-10),cv2.FONT_HERSHEY_SIMPLEX, 0.5, (0,0,200),2)\n",
        "plt.imshow(img1)\n"
      ],
      "metadata": {
        "colab": {
          "base_uri": "https://localhost:8080/",
          "height": 977
        },
        "id": "CziemQRhFsh7",
        "outputId": "cea7327f-cf5f-4788-89c9-f099978e3a46"
      },
      "execution_count": null,
      "outputs": [
        {
          "output_type": "display_data",
          "data": {
            "text/plain": [
              "<Figure size 640x480 with 1 Axes>"
            ],
            "image/png": "[encoded data removed]"
          },
          "metadata": {}
        },
        {
          "output_type": "stream",
          "name": "stdout",
          "text": [
            "You are the\n",
            "greatest project you\n",
            "will ever work on.\n",
            "\f\n",
            "{'level': [1, 2, 3, 4, 5, 5, 5, 4, 5, 5, 5, 4, 5, 5, 5, 5], 'page_num': [1, 1, 1, 1, 1, 1, 1, 1, 1, 1, 1, 1, 1, 1, 1, 1], 'block_num': [0, 1, 1, 1, 1, 1, 1, 1, 1, 1, 1, 1, 1, 1, 1, 1], 'par_num': [0, 0, 1, 1, 1, 1, 1, 1, 1, 1, 1, 1, 1, 1, 1, 1], 'line_num': [0, 0, 0, 1, 1, 1, 1, 2, 2, 2, 2, 3, 3, 3, 3, 3], 'word_num': [0, 0, 0, 0, 1, 2, 3, 0, 1, 2, 3, 0, 1, 2, 3, 4], 'left': [0, 155, 155, 256, 256, 354, 437, 155, 155, 351, 520, 178, 178, 272, 383, 514], 'top': [0, 554, 554, 554, 560, 569, 554, 618, 623, 618, 627, 671, 671, 686, 671, 686], 'width': [736, 447, 447, 249, 77, 64, 68, 447, 175, 152, 82, 402, 72, 92, 111, 66], 'height': [1308, 158, 158, 41, 35, 26, 41, 49, 44, 48, 35, 41, 40, 26, 40, 25], 'conf': [-1, -1, -1, -1, 96, 95, 95, -1, 96, 95, 86, -1, 95, 95, 96, 96], 'text': ['', '', '', '', 'You', 'are', 'the', '', 'greatest', 'project', 'you', '', 'will', 'ever', 'work', 'on.']}\n"
          ]
        },
        {
          "output_type": "execute_result",
          "data": {
            "text/plain": [
              "<matplotlib.image.AxesImage at 0x7fc765a962f0>"
            ]
          },
          "metadata": {},
          "execution_count": 115
        },
        {
          "output_type": "display_data",
          "data": {
            "text/plain": [
              "<Figure size 640x480 with 1 Axes>"
            ],
            "image/png": "[encoded data removed]"
          },
          "metadata": {}
        }
      ]
    },
    {
      "cell_type": "code",
      "source": [
        "#043 "
      ],
      "metadata": {
        "id": "fk3MooJPGRoZ"
      },
      "execution_count": null,
      "outputs": []
    }
  ]
}