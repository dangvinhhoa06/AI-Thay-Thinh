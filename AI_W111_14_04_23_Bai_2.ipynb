{
  "nbformat": 4,
  "nbformat_minor": 0,
  "metadata": {
    "colab": {
      "provenance": []
    },
    "kernelspec": {
      "name": "python3",
      "display_name": "Python 3"
    },
    "language_info": {
      "name": "python"
    },
    "accelerator": "GPU",
    "gpuClass": "standard"
  },
  "cells": [
    {
      "cell_type": "code",
      "source": [
        "import keras\n",
        "#keras.datasets.fashion_mnist.load_data\n",
        "from keras.datasets import mnist\n",
        "from keras.utils import to_categorical\n",
        "from keras.models import Sequential, Model\n",
        "from keras.layers import Dense, Flatten, Convolution2D, Conv2D, MaxPooling2D, Normalization, LeakyReLU, BatchNormalization, Activation, Dropout\n",
        "from keras.optimizers import Adam\n",
        "from keras.layers.pooling.max_pooling2d import MaxPool2D\n",
        "from re import VERBOSE\n",
        "from keras.losses import categorical_crossentropy\n",
        "import matplotlib.pyplot as plt\n",
        "\n"
      ],
      "metadata": {
        "id": "EtJgKXI16YRH"
      },
      "execution_count": null,
      "outputs": []
    },
    {
      "cell_type": "code",
      "execution_count": null,
      "metadata": {
        "id": "Uv2jPRSW6IiM"
      },
      "outputs": [],
      "source": [
        "#CNN\n",
        "model=Sequential()\n",
        "model.add(Conv2D(32,(3,3),padding='same', input_shape=(32,32,3)))\n",
        "model.add(Activation('relu'))\n",
        "model.add(Conv2D(32,(3,3))) #Lớp tích chập 2 chiều\n",
        "model.add(Activation('relu'))\n",
        "model.add(MaxPooling2D((2,2))) #Lớp tối đa hóa cục bộ 2 chiều\n",
        "model.add(Dropout(0.25)) #Lớp loại bỏ\n",
        "\n",
        "model.add(Conv2D(64,(3,3),padding='same'))\n",
        "model.add(Activation('relu'))\n",
        "model.add(Conv2D(64,(3,3)))\n",
        "model.add(Activation('relu'))\n",
        "model.add(MaxPooling2D((2,2)))\n",
        "model.add(Dropout(0.252))"
      ]
    },
    {
      "cell_type": "code",
      "source": [
        "#ANN\n",
        "model.add(Flatten())\n",
        "model.add(Dense(512, activation='relu'))\n",
        "model.add(Dropout(0.5))\n",
        "model.add(Dense(10, activation='softmax'))"
      ],
      "metadata": {
        "id": "BMVSZ-_96ODb"
      },
      "execution_count": null,
      "outputs": []
    },
    {
      "cell_type": "code",
      "source": [
        "from keras.datasets import cifar10\n",
        "(x_train, y_train), (x_test, y_test) = cifar10.load_data()\n",
        "print(x_train.shape,y_train.shape, x_test.shape,y_test.shape)"
      ],
      "metadata": {
        "colab": {
          "base_uri": "https://localhost:8080/"
        },
        "id": "tnTjD4tu6SoO",
        "outputId": "6801feff-c23a-47b1-e9aa-e0f72b595638"
      },
      "execution_count": null,
      "outputs": [
        {
          "output_type": "stream",
          "name": "stdout",
          "text": [
            "Downloading data from https://www.cs.toronto.edu/~kriz/cifar-10-python.tar.gz\n",
            "170498071/170498071 [==============================] - 6s 0us/step\n",
            "(50000, 32, 32, 3) (50000, 1) (10000, 32, 32, 3) (10000, 1)\n"
          ]
        }
      ]
    },
    {
      "cell_type": "code",
      "source": [
        "from keras.optimizers import SGD\n",
        "sgd=SGD(lr=0.1,decay=1e-6,\n",
        "        momentum=0.9, nesterov=True)\n",
        "model.compile(loss='categorial_cressentropy', optimizer=sgd, metrics=['accuracy'])"
      ],
      "metadata": {
        "colab": {
          "base_uri": "https://localhost:8080/"
        },
        "id": "DFtErf4G6U46",
        "outputId": "1909c67d-2ac8-41bf-f1d1-f975eae7c3bd"
      },
      "execution_count": null,
      "outputs": [
        {
          "output_type": "stream",
          "name": "stderr",
          "text": [
            "/usr/local/lib/python3.9/dist-packages/keras/optimizers/legacy/gradient_descent.py:114: UserWarning: The `lr` argument is deprecated, use `learning_rate` instead.\n",
            "  super().__init__(name, **kwargs)\n"
          ]
        }
      ]
    },
    {
      "cell_type": "code",
      "source": [
        "# train the model\n",
        "\n",
        "# train=model.fit(x_train, y_train,batch_size=64, epochs=10, verbose=1)"
      ],
      "metadata": {
        "id": "SFr4uNVF6V06"
      },
      "execution_count": null,
      "outputs": []
    },
    {
      "cell_type": "code",
      "source": [
        "from tensorflow.python.ops.parallel_for.pfor import nest\n",
        "\n",
        "#cifar10\n",
        "\n",
        "from keras.datasets.cifar10 import load_data\n",
        "#from keras.datasets import fashion_mnist\n",
        "from keras.utils import to_categorical\n",
        "from keras.models import Sequential , Model\n",
        "from keras.layers import Dense ,Flatten,Conv2D,MaxPooling2D,Normalization,LeakyReLU,Dropout,Activation\n",
        "from keras.optimizers import Adam , SGD # toc do hoc cham , \n",
        "from keras.losses import categorical_crossentropy\n",
        "import matplotlib.pyplot as plt\n",
        "\n",
        "batch_size =64 \n",
        "epochs=20\n",
        "classes =10\n",
        "\n",
        "# xu ly data in\n",
        "(train_images,train_labels),(test_images,test_labels)=load_data()\n",
        "\n",
        "train_images= train_images.reshape(50000,32,32,3)\n",
        "test_images= test_images.reshape(10000,32,32,3)\n",
        "\n",
        "train_images=train_images.astype('float32')/255\n",
        "test_images=test_images.astype('float32')/255\n",
        "\n",
        "train_labels=to_categorical(train_labels,10) # ma hoa 10 so ra\n",
        "test_labels = to_categorical(test_labels,10)\n",
        "\n",
        "# mo hinh\n",
        "model = Sequential()\n",
        "\n",
        "# bo CNN\n",
        "# co ba lan tich chap \n",
        "model.add(Conv2D(32,kernel_size=(3,3),input_shape=(32,32,3),padding='same')) # 32 lan tich chap , kich thuoc cua bo loc\n",
        "model.add(Activation('relu'))\n",
        "model.add(Conv2D(32,(3,3)))\n",
        "model.add(Activation('relu'))\n",
        "model.add(MaxPooling2D((2,2)))\n",
        "model.add(Dropout(0.25))\n",
        "\n",
        "model.add(Conv2D(64,kernel_size=(3,3),padding='same'))\n",
        "model.add(Activation('relu'))\n",
        "model.add(Conv2D(64,(3,3)))\n",
        "model.add(Activation('relu'))\n",
        "model.add(MaxPooling2D((2,2)))\n",
        "model.add(Dropout(0.25))\n",
        "\n",
        "\n",
        "# bo ANN\n",
        "model.add(Flatten()) # tao ra mot vetor phang\n",
        "model.add(Dense(512,activation='relu'))\n",
        "model.add(Dropout(0.5))\n",
        "model.add(Dense(classes,activation='softmax'))\n",
        "\n",
        "model.summary()\n",
        "\n",
        "# bien dich\n",
        "sgd = SGD(lr=0.1,decay=1e-6,momentum=0.9, nesterov=True)\n",
        "model.compile(loss='categorical_crossentropy',optimizer='SGD',metrics=['accuracy'])\n",
        "train = model.fit(train_images,train_labels,batch_size=batch_size,epochs=epochs,verbose=1)\n",
        "\n",
        "# luu mo hinh\n",
        "model.save('model1.h5')\n",
        "\n"
      ],
      "metadata": {
        "colab": {
          "base_uri": "https://localhost:8080/"
        },
        "id": "tACkWiqM611c",
        "outputId": "e7eba541-a93b-4919-a21c-82b7b7e8e1af"
      },
      "execution_count": null,
      "outputs": [
        {
          "output_type": "stream",
          "name": "stdout",
          "text": [
            "Model: \"sequential_2\"\n",
            "_________________________________________________________________\n",
            " Layer (type)                Output Shape              Param #   \n",
            "=================================================================\n",
            " conv2d_8 (Conv2D)           (None, 32, 32, 32)        896       \n",
            "                                                                 \n",
            " activation_8 (Activation)   (None, 32, 32, 32)        0         \n",
            "                                                                 \n",
            " conv2d_9 (Conv2D)           (None, 30, 30, 32)        9248      \n",
            "                                                                 \n",
            " activation_9 (Activation)   (None, 30, 30, 32)        0         \n",
            "                                                                 \n",
            " max_pooling2d_4 (MaxPooling  (None, 15, 15, 32)       0         \n",
            " 2D)                                                             \n",
            "                                                                 \n",
            " dropout_6 (Dropout)         (None, 15, 15, 32)        0         \n",
            "                                                                 \n",
            " conv2d_10 (Conv2D)          (None, 15, 15, 64)        18496     \n",
            "                                                                 \n",
            " activation_10 (Activation)  (None, 15, 15, 64)        0         \n",
            "                                                                 \n",
            " conv2d_11 (Conv2D)          (None, 13, 13, 64)        36928     \n",
            "                                                                 \n",
            " activation_11 (Activation)  (None, 13, 13, 64)        0         \n",
            "                                                                 \n",
            " max_pooling2d_5 (MaxPooling  (None, 6, 6, 64)         0         \n",
            " 2D)                                                             \n",
            "                                                                 \n",
            " dropout_7 (Dropout)         (None, 6, 6, 64)          0         \n",
            "                                                                 \n",
            " flatten_2 (Flatten)         (None, 2304)              0         \n",
            "                                                                 \n",
            " dense_4 (Dense)             (None, 512)               1180160   \n",
            "                                                                 \n",
            " dropout_8 (Dropout)         (None, 512)               0         \n",
            "                                                                 \n",
            " dense_5 (Dense)             (None, 10)                5130      \n",
            "                                                                 \n",
            "=================================================================\n",
            "Total params: 1,250,858\n",
            "Trainable params: 1,250,858\n",
            "Non-trainable params: 0\n",
            "_________________________________________________________________\n",
            "Epoch 1/20\n",
            "782/782 [==============================] - 7s 7ms/step - loss: 2.1994 - accuracy: 0.1711\n",
            "Epoch 2/20\n",
            "782/782 [==============================] - 6s 8ms/step - loss: 2.0058 - accuracy: 0.2608\n",
            "Epoch 3/20\n",
            "782/782 [==============================] - 6s 7ms/step - loss: 1.9008 - accuracy: 0.3093\n",
            "Epoch 4/20\n",
            "782/782 [==============================] - 6s 8ms/step - loss: 1.7788 - accuracy: 0.3548\n",
            "Epoch 5/20\n",
            "782/782 [==============================] - 6s 7ms/step - loss: 1.6477 - accuracy: 0.4010\n",
            "Epoch 6/20\n",
            "782/782 [==============================] - 6s 8ms/step - loss: 1.5369 - accuracy: 0.4419\n",
            "Epoch 7/20\n",
            "782/782 [==============================] - 6s 7ms/step - loss: 1.4626 - accuracy: 0.4680\n",
            "Epoch 8/20\n",
            "782/782 [==============================] - 6s 8ms/step - loss: 1.3984 - accuracy: 0.4942\n",
            "Epoch 9/20\n",
            "782/782 [==============================] - 7s 9ms/step - loss: 1.3535 - accuracy: 0.5142\n",
            "Epoch 10/20\n",
            "782/782 [==============================] - 6s 7ms/step - loss: 1.3166 - accuracy: 0.5281\n",
            "Epoch 11/20\n",
            "782/782 [==============================] - 6s 8ms/step - loss: 1.2762 - accuracy: 0.5435\n",
            "Epoch 12/20\n",
            "782/782 [==============================] - 6s 7ms/step - loss: 1.2417 - accuracy: 0.5554\n",
            "Epoch 13/20\n",
            "782/782 [==============================] - 6s 8ms/step - loss: 1.2132 - accuracy: 0.5682\n",
            "Epoch 14/20\n",
            "782/782 [==============================] - 6s 7ms/step - loss: 1.1836 - accuracy: 0.5787\n",
            "Epoch 15/20\n",
            "782/782 [==============================] - 6s 8ms/step - loss: 1.1596 - accuracy: 0.5881\n",
            "Epoch 16/20\n",
            "782/782 [==============================] - 6s 7ms/step - loss: 1.1295 - accuracy: 0.5955\n",
            "Epoch 17/20\n",
            "782/782 [==============================] - 6s 8ms/step - loss: 1.1121 - accuracy: 0.6071\n",
            "Epoch 18/20\n",
            "782/782 [==============================] - 6s 7ms/step - loss: 1.0871 - accuracy: 0.6133\n",
            "Epoch 19/20\n",
            "782/782 [==============================] - 6s 8ms/step - loss: 1.0678 - accuracy: 0.6239\n",
            "Epoch 20/20\n",
            "782/782 [==============================] - 6s 7ms/step - loss: 1.0462 - accuracy: 0.6301\n"
          ]
        }
      ]
    },
    {
      "cell_type": "code",
      "source": [
        "# hien thi do thi \n",
        "accuracy = train.history['accuracy']\n",
        "loss= train.history['loss']\n",
        "plt.plot(epochs,accuracy,'bo',label='Training accuracy')\n",
        "plt.plot(epochs,loss,'b',label='Training loss')\n",
        "plt.legend()\n",
        "plt.show()"
      ],
      "metadata": {
        "id": "VwiNkbxj7L2r"
      },
      "execution_count": null,
      "outputs": []
    },
    {
      "cell_type": "code",
      "source": [
        "from os import listdir\n",
        "import numpy as np\n",
        "from numpy import accuracy, save\n",
        "from keras.preprocessing.image import load_img, img_to_array"
      ],
      "metadata": {
        "id": "Po3hTneu-OVx"
      },
      "execution_count": null,
      "outputs": []
    },
    {
      "cell_type": "code",
      "source": [],
      "metadata": {
        "id": "ulWGBwXN-4G2"
      },
      "execution_count": null,
      "outputs": []
    },
    {
      "cell_type": "code",
      "source": [
        "from google.colab import drive\n",
        "drive.mount('/content/drive')"
      ],
      "metadata": {
        "colab": {
          "base_uri": "https://localhost:8080/"
        },
        "id": "XcK0JUzMCEAZ",
        "outputId": "a5154ec7-8df7-47f4-fc3b-7a99dd2e6f21"
      },
      "execution_count": null,
      "outputs": [
        {
          "output_type": "stream",
          "name": "stdout",
          "text": [
            "Drive already mounted at /content/drive; to attempt to forcibly remount, call drive.mount(\"/content/drive\", force_remount=True).\n"
          ]
        }
      ]
    },
    {
      "cell_type": "code",
      "source": [
        "from numpy.ma.core import asarray\n",
        "folder='content'\n",
        "\n",
        "photos, labels =list(),list()\n",
        "for file in listdir():\n",
        "  output=0.0\n",
        "  if file.startwith('THAOHUNG'):\n",
        "    output=1.0\n",
        "  if file.startwith('VinhHoa'):\n",
        "    output=2.0\n",
        "  photo=load_img(folder+file, target_size=(200,200))    #Resize anh\n",
        "  photo=img_to_array(img)\n",
        "  labels.append(output)\n",
        "photos=asarray(photos)\n",
        "labels=asarray(labels)\n",
        "print(photos.shape, labels.shape)\n",
        "save('_____/HungHoa_photos.npy',photos)\n",
        "save('_____/HungHoa_labels.npy',labels)\n",
        "\n",
        "\n",
        "\n",
        "\n",
        "#File .npy la file so, khong con la anh, khi can chi goi file nay ra khong can xu ly lai\n",
        "\n",
        "#Ve nha, tuan sau lam 5 bai tap, lam report rieng, bam chung 1 quyen, de tren zalo\n"
      ],
      "metadata": {
        "id": "5V1Sa2Q1CRBo"
      },
      "execution_count": null,
      "outputs": []
    }
  ]
}