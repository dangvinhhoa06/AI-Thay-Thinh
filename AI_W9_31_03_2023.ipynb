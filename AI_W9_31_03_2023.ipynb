{
  "nbformat": 4,
  "nbformat_minor": 0,
  "metadata": {
    "colab": {
      "provenance": [],
      "authorship_tag": "ABX9TyObGr3VXgpuj6/UrfDoJal0",
      "include_colab_link": true
    },
    "kernelspec": {
      "name": "python3",
      "display_name": "Python 3"
    },
    "language_info": {
      "name": "python"
    }
  },
  "cells": [
    {
      "cell_type": "markdown",
      "metadata": {
        "id": "view-in-github",
        "colab_type": "text"
      },
      "source": [
        "<a href=\"https://colab.research.google.com/github/dangvinhhoa06/AI-Thay-Thinh/blob/main/AI_W9_31_03_2023.ipynb\" target=\"_parent\"><img src=\"https://colab.research.google.com/assets/colab-badge.svg\" alt=\"Open In Colab\"/></a>"
      ]
    },
    {
      "cell_type": "code",
      "execution_count": 1,
      "metadata": {
        "id": "RmAIB44ZSBp0",
        "colab": {
          "base_uri": "https://localhost:8080/"
        },
        "outputId": "1dccc99c-0f6e-4014-b600-541336a5fb29"
      },
      "outputs": [
        {
          "output_type": "stream",
          "name": "stdout",
          "text": [
            "Downloading data from https://storage.googleapis.com/tensorflow/tf-keras-datasets/mnist.npz\n",
            "11490434/11490434 [==============================] - 0s 0us/step\n"
          ]
        }
      ],
      "source": [
        "from keras.datasets import mnist\n",
        "(train_images, train_labels),(test_images, test_labels)= mnist.load_data()\n",
        "\n",
        "X=test_images\n",
        "Y=test_labels\n"
      ]
    },
    {
      "cell_type": "code",
      "source": [
        "train_images.shape #60.000 du lieu, 28,28 la kich thuoc cua hinh anh do"
      ],
      "metadata": {
        "id": "S5DVkjGNSdbO",
        "colab": {
          "base_uri": "https://localhost:8080/"
        },
        "outputId": "de26e5b0-f6ef-4ebf-e1d3-f5f08e2813ee"
      },
      "execution_count": 2,
      "outputs": [
        {
          "output_type": "execute_result",
          "data": {
            "text/plain": [
              "(60000, 28, 28)"
            ]
          },
          "metadata": {},
          "execution_count": 2
        }
      ]
    },
    {
      "cell_type": "code",
      "source": [
        "test_images.shape # 10.000 dữ liệu, kích thước của hình ảnh là 28*28\n"
      ],
      "metadata": {
        "id": "sm6ACnPLSsC-",
        "colab": {
          "base_uri": "https://localhost:8080/"
        },
        "outputId": "0e2df2e9-df3d-4073-d9be-ac2ede3d81de"
      },
      "execution_count": 3,
      "outputs": [
        {
          "output_type": "execute_result",
          "data": {
            "text/plain": [
              "(10000, 28, 28)"
            ]
          },
          "metadata": {},
          "execution_count": 3
        }
      ]
    },
    {
      "cell_type": "code",
      "source": [
        "train_labels.shape # "
      ],
      "metadata": {
        "id": "g4lR4GaYS7Ef",
        "colab": {
          "base_uri": "https://localhost:8080/"
        },
        "outputId": "a3c6d944-92c8-4956-aa45-e711fca73167"
      },
      "execution_count": 4,
      "outputs": [
        {
          "output_type": "execute_result",
          "data": {
            "text/plain": [
              "(60000,)"
            ]
          },
          "metadata": {},
          "execution_count": 4
        }
      ]
    },
    {
      "cell_type": "code",
      "source": [
        "test_labels.shape"
      ],
      "metadata": {
        "id": "09Qw89q_TChb",
        "colab": {
          "base_uri": "https://localhost:8080/"
        },
        "outputId": "49417ee2-98ae-409a-c57e-90378b949f28"
      },
      "execution_count": 5,
      "outputs": [
        {
          "output_type": "execute_result",
          "data": {
            "text/plain": [
              "(10000,)"
            ]
          },
          "metadata": {},
          "execution_count": 5
        }
      ]
    },
    {
      "cell_type": "code",
      "source": [
        "from keras.datasets import mnist\n",
        "(train_images, train_labels),(test_images, test_labels)= mnist.load_data()\n",
        "digit=train_images[6]\n",
        "import matplotlib.pyplot as plt \n",
        "plt.imshow(digit)\n",
        "plt.show\n",
        "print('Số này là:',train_labels[6])"
      ],
      "metadata": {
        "id": "MYbkZmMWTfqb",
        "colab": {
          "base_uri": "https://localhost:8080/",
          "height": 448
        },
        "outputId": "97153af6-783d-49ac-ebc4-ba00392d38fa"
      },
      "execution_count": 6,
      "outputs": [
        {
          "output_type": "stream",
          "name": "stdout",
          "text": [
            "Số này là: 1\n"
          ]
        },
        {
          "output_type": "display_data",
          "data": {
            "text/plain": [
              "<Figure size 640x480 with 1 Axes>"
            ],
            "image/png": "[encoded data removed]"
          },
          "metadata": {}
        }
      ]
    },
    {
      "cell_type": "code",
      "source": [
        "from keras.datasets import mnist\n",
        "import matplotlib.pyplot as plt \n",
        "\n",
        "(train_images, train_labels), (test_images, test_labels) = mnist.load_data()\n",
        "\n",
        "for i in range(10):\n",
        "    plt.subplot(3, 5, i+1)\n",
        "    plt.tight_layout()\n",
        "    plt.imshow(train_images[i+666], cmap='gray', interpolation='none') #interpolation: nội suy\n",
        "    plt.title('Số này là: {}'.format(train_labels[i+666]))\n",
        "    plt.xticks([])\n",
        "    plt.yticks([])\n",
        "\n",
        "plt.show()\n",
        "#ảnh là 28x28 pixel, nhậ dạng từ số 0 "
      ],
      "metadata": {
        "id": "d6O_41ujVtp7",
        "colab": {
          "base_uri": "https://localhost:8080/",
          "height": 300
        },
        "outputId": "4a892e2f-1eea-4988-a980-c95ed086169a"
      },
      "execution_count": 7,
      "outputs": [
        {
          "output_type": "display_data",
          "data": {
            "text/plain": [
              "<Figure size 640x480 with 10 Axes>"
            ],
            "image/png": "[encoded data removed]"
          },
          "metadata": {}
        }
      ]
    },
    {
      "cell_type": "code",
      "source": [
        "from keras.models import Sequential #Sequential: mô tả tuần tự\n",
        "from keras.layers import Dense #Dense: fully connected, 1 tế bào kết nối hết đầy đủ đến các tế bào tiếp theo nó\n",
        "model = Sequential() #Lấy mô hình mạng ANN\n",
        "model.add(Dense(512, activation='relu', input_shape=(28*28,)))       #hàm truyền là hàm relu()\n",
        "model.add(Dense(10, activation='softmax'))\n",
        "model.summary()"
      ],
      "metadata": {
        "id": "4MVX8k1aXNZv",
        "colab": {
          "base_uri": "https://localhost:8080/"
        },
        "outputId": "adba26b8-80a5-425f-9970-679de3162a8d"
      },
      "execution_count": 8,
      "outputs": [
        {
          "output_type": "stream",
          "name": "stdout",
          "text": [
            "Model: \"sequential\"\n",
            "_________________________________________________________________\n",
            " Layer (type)                Output Shape              Param #   \n",
            "=================================================================\n",
            " dense (Dense)               (None, 512)               401920    \n",
            "                                                                 \n",
            " dense_1 (Dense)             (None, 10)                5130      \n",
            "                                                                 \n",
            "=================================================================\n",
            "Total params: 407,050\n",
            "Trainable params: 407,050\n",
            "Non-trainable params: 0\n",
            "_________________________________________________________________\n"
          ]
        }
      ]
    },
    {
      "cell_type": "code",
      "source": [
        "train_images=train_images.reshape((60000,28*28)) #60k tấm ảnh\n",
        "train_images=train_images.astype('float')/255\n",
        "\n",
        "test_images=test_images.reshape((10000,28*28)) #60k tấm ảnh\n",
        "test_images=test_images.astype('float')/255\n",
        "\n",
        "print(train_images.shape)\n",
        "print(test_images.shape)"
      ],
      "metadata": {
        "id": "18c7apZHbJ1y",
        "colab": {
          "base_uri": "https://localhost:8080/"
        },
        "outputId": "7945b3fe-e5a0-4c65-84dd-d5942480e6a2"
      },
      "execution_count": 9,
      "outputs": [
        {
          "output_type": "stream",
          "name": "stdout",
          "text": [
            "(60000, 784)\n",
            "(10000, 784)\n"
          ]
        }
      ]
    },
    {
      "cell_type": "code",
      "source": [
        "#Chuyển 1 bit thành nhiều bit đầu ra\n",
        "from keras.utils import to_categorical\n",
        "train_labels = to_categorical(train_labels,10)  #1 bit thành 10 bit\n",
        "test_label = to_categorical(test_labels,10)\n",
        "print(train_labels.shape)\n",
        "print(test_label.shape)"
      ],
      "metadata": {
        "id": "YedsJYWzcmE2",
        "colab": {
          "base_uri": "https://localhost:8080/"
        },
        "outputId": "9cd75652-d5a4-47eb-eca4-38659c562ec3"
      },
      "execution_count": 10,
      "outputs": [
        {
          "output_type": "stream",
          "name": "stdout",
          "text": [
            "(60000, 10)\n",
            "(10000, 10)\n"
          ]
        }
      ]
    },
    {
      "cell_type": "code",
      "source": [
        "digit=X[1000]\n",
        "import matplotlib.pyplot as plt \n",
        "plt.imshow(digit)\n",
        "plt.show\n",
        "print('Số này là:',X[1000])"
      ],
      "metadata": {
        "id": "3JSzVotUigq1",
        "colab": {
          "base_uri": "https://localhost:8080/",
          "height": 1000
        },
        "outputId": "ac5c74f8-80d6-45f1-b30f-6e2120e75101"
      },
      "execution_count": 11,
      "outputs": [
        {
          "output_type": "stream",
          "name": "stdout",
          "text": [
            "Số này là: [[  0   0   0   0   0   0   0   0   0   0   0   0   0   0   0   0   0   0\n",
            "    0   0   0   0   0   0   0   0   0   0]\n",
            " [  0   0   0   0   0   0   0   0   0   0   0   0   0   0   0   0   0   0\n",
            "    0   0   0   0   0   0   0   0   0   0]\n",
            " [  0   0   0   0   0   0   0   0   0   0   0   0   0   0   0   0   0   0\n",
            "    0   0   0   0   0   0   0   0   0   0]\n",
            " [  0   0   0   0   0   0   0   0   0   0   0   0   0   0   0   0   0   0\n",
            "    0   0   0   0   0   0   0   0   0   0]\n",
            " [  0   0   0   0   0   0   0   0   0   0   0   0   0   0   0   0   0   0\n",
            "    0   0   0   0   0   0   0   0   0   0]\n",
            " [  0   0   0   0   0   0   0   0   0   0   0   0   0   0   0   0   0   0\n",
            "    0   0   0   0   0   0   0   0   0   0]\n",
            " [  0   0   0   0   0   0   0   0   0   0   0   0   0   0   0   0   0   0\n",
            "    0   0   0   0   0   0   0   0   0   0]\n",
            " [  0   0   0   0   0   0   0   0   0   0   0   0   0  41  88 234 255 254\n",
            "  156   0   0   0   0   0   0   0   0   0]\n",
            " [  0   0   0   0   0   0   0   0   0   0   0   0   0 219 254 254 254 254\n",
            "  250 106   0   0   0   0   0   0   0   0]\n",
            " [  0   0   0   0   0   0   0   0   0   0   0   0 181 250 254 254 254 254\n",
            "  254 111   0   0   0   0   0   0   0   0]\n",
            " [  0   0   0   0   0   0   0   0   0   0   0   0 237 247 102  40 162 254\n",
            "  254 111   0   0   0   0   0   0   0   0]\n",
            " [  0   0   0   0   0   0   0   0   0   0   0  40 244 177   0   2 189 254\n",
            "  254 111   0   0   0   0   0   0   0   0]\n",
            " [  0   0   0   0   0   0   0   0   0   0   0 161 254 242  40 121 254 254\n",
            "  254 142   0   0   0   0   0   0   0   0]\n",
            " [  0   0   0   0   0   0   0   0   0   0   0 131 254 254 254 254 254 254\n",
            "  254 111   0   0   0   0   0   0   0   0]\n",
            " [  0   0   0   0   0   0   0   0   0   0   0  27 243 254 254 254 254 254\n",
            "  254 111   0   0   0   0   0   0   0   0]\n",
            " [  0   0   0   0   0   0   0   0   0   0   0   0 120 195 236 100 229 254\n",
            "  215  15   0   0   0   0   0   0   0   0]\n",
            " [  0   0   0   0   0   0   0   0   0   0   0   0   0   0  22 143 254 254\n",
            "   93   0   0   0   0   0   0   0   0   0]\n",
            " [  0   0   0   0   0   0   0   0   0   0   0   0   0   0  80 244 254 176\n",
            "    2   0   0   0   0   0   0   0   0   0]\n",
            " [  0   0   0   0   0   0   0   0   0   0   0   0   0  16 213 254 245  49\n",
            "    0   0   0   0   0   0   0   0   0   0]\n",
            " [  0   0   0   0   0   0   0   0   0   0   0   0  22 234 254 252  95   0\n",
            "    0   0   0   0   0   0   0   0   0   0]\n",
            " [  0   0   0   0   0   0   0   0   0   0   0   0 177 254 254  87   0   0\n",
            "    0   0   0   0   0   0   0   0   0   0]\n",
            " [  0   0   0   0   0   0   0   0   0   0   0 148 253 218  39   2   0   0\n",
            "    0   0   0   0   0   0   0   0   0   0]\n",
            " [  0   0   0   0   0   0   0   0   0   2 114 253 241  64   0   0   0   0\n",
            "    0   0   0   0   0   0   0   0   0   0]\n",
            " [  0   0   0   0   0   0   0   0   0  69 254 254  74   0   0   0   0   0\n",
            "    0   0   0   0   0   0   0   0   0   0]\n",
            " [  0   0   0   0   0   0   0   0  19 241 254 145   4   0   0   0   0   0\n",
            "    0   0   0   0   0   0   0   0   0   0]\n",
            " [  0   0   0   0   0   0   0   0  95 254 153   1   0   0   0   0   0   0\n",
            "    0   0   0   0   0   0   0   0   0   0]\n",
            " [  0   0   0   0   0   0   0   0 169 216  24   0   0   0   0   0   0   0\n",
            "    0   0   0   0   0   0   0   0   0   0]\n",
            " [  0   0   0   0   0   0   0   0   0   0   0   0   0   0   0   0   0   0\n",
            "    0   0   0   0   0   0   0   0   0   0]]\n"
          ]
        },
        {
          "output_type": "display_data",
          "data": {
            "text/plain": [
              "<Figure size 640x480 with 1 Axes>"
            ],
            "image/png": "[encoded data removed]"
          },
          "metadata": {}
        }
      ]
    },
    {
      "cell_type": "code",
      "source": [
        "X[1000].shape"
      ],
      "metadata": {
        "colab": {
          "base_uri": "https://localhost:8080/"
        },
        "id": "CwYSxIwsl1Uh",
        "outputId": "8eb94692-0c9c-45f5-f229-06a0f8ce8bac"
      },
      "execution_count": 12,
      "outputs": [
        {
          "output_type": "execute_result",
          "data": {
            "text/plain": [
              "(28, 28)"
            ]
          },
          "metadata": {},
          "execution_count": 12
        }
      ]
    },
    {
      "cell_type": "code",
      "source": [
        "#Chuyển 1 bit thành nhiều bit đầu ra\n",
        "from keras.utils import to_categorical\n",
        "train_labels = to_categorical(train_labels,10)  #1 bit thành 10 bit\n",
        "test_label = to_categorical(test_labels,10)\n",
        "\n",
        "model.compile(optimizer='rmsprop', loss='categorical_crossentropy', metrics=['accuracy'])\n",
        "model.fit(train_images, train_labels, epochs=20, batch_size=128) #train model, 1 lô bốc 128 dữ liệu để học\n",
        "test_loss, test_acc = model.avaluate(test_images, test_labels)\n",
        "print('Độ mất mát: ',test_loss)\n",
        "print('Độ chính xác: ',test_acc)"
      ],
      "metadata": {
        "id": "3Z_ALwEEeLu3"
      },
      "execution_count": null,
      "outputs": []
    },
    {
      "cell_type": "code",
      "source": [
        "#Lấy dữ liệu bât kỳ, đẩy ra hiển thị và cho máy kiểm tra"
      ],
      "metadata": {
        "id": "tQWA4XDemOtp"
      },
      "execution_count": 27,
      "outputs": []
    },
    {
      "cell_type": "markdown",
      "source": [
        "**Ảnh RGB cifar10**"
      ],
      "metadata": {
        "id": "swI_YHbbnRpX"
      }
    },
    {
      "cell_type": "code",
      "source": [
        "from keras.datasets import cifar10\n",
        "(x_train, y_train), (x_test, y_test) = cifar10.load_data()\n"
      ],
      "metadata": {
        "id": "It7bDF-5mOrT",
        "colab": {
          "base_uri": "https://localhost:8080/"
        },
        "outputId": "074defd1-375c-4985-c82d-7e242d97b121"
      },
      "execution_count": 14,
      "outputs": [
        {
          "output_type": "stream",
          "name": "stdout",
          "text": [
            "Downloading data from https://www.cs.toronto.edu/~kriz/cifar-10-python.tar.gz\n",
            "170498071/170498071 [==============================] - 3s 0us/step\n"
          ]
        }
      ]
    },
    {
      "cell_type": "code",
      "source": [
        "x_train.shape"
      ],
      "metadata": {
        "colab": {
          "base_uri": "https://localhost:8080/"
        },
        "id": "exwz45x6mOo_",
        "outputId": "f1745d1c-426c-4da7-f2cd-ca2ea86c435b"
      },
      "execution_count": 15,
      "outputs": [
        {
          "output_type": "execute_result",
          "data": {
            "text/plain": [
              "(50000, 32, 32, 3)"
            ]
          },
          "metadata": {},
          "execution_count": 15
        }
      ]
    },
    {
      "cell_type": "code",
      "source": [
        "y_train.shape"
      ],
      "metadata": {
        "colab": {
          "base_uri": "https://localhost:8080/"
        },
        "id": "L-xAq4qGoIhr",
        "outputId": "680de6fd-8006-4463-e9f1-fcd337ab9904"
      },
      "execution_count": 16,
      "outputs": [
        {
          "output_type": "execute_result",
          "data": {
            "text/plain": [
              "(50000, 1)"
            ]
          },
          "metadata": {},
          "execution_count": 16
        }
      ]
    },
    {
      "cell_type": "code",
      "source": [
        "x_test.shape"
      ],
      "metadata": {
        "colab": {
          "base_uri": "https://localhost:8080/"
        },
        "id": "1a2QKhOboIfV",
        "outputId": "d2b1d9d4-67ee-4940-a1bf-9c6216299eda"
      },
      "execution_count": 17,
      "outputs": [
        {
          "output_type": "execute_result",
          "data": {
            "text/plain": [
              "(10000, 32, 32, 3)"
            ]
          },
          "metadata": {},
          "execution_count": 17
        }
      ]
    },
    {
      "cell_type": "code",
      "source": [
        "y_test.shape"
      ],
      "metadata": {
        "colab": {
          "base_uri": "https://localhost:8080/"
        },
        "id": "AlQWVGGBoIdQ",
        "outputId": "9a371bda-6af8-476a-a3e7-59c6e9581187"
      },
      "execution_count": 18,
      "outputs": [
        {
          "output_type": "execute_result",
          "data": {
            "text/plain": [
              "(10000, 1)"
            ]
          },
          "metadata": {},
          "execution_count": 18
        }
      ]
    },
    {
      "cell_type": "code",
      "source": [
        "# display an image from the dataset\n",
        "import matplotlib.pyplot as plt\n",
        "hinh = x_train[100]\n",
        "plt.imshow(hinh, cmap=plt.cm.binary)\n",
        "plt.show()\n",
        "print('Nay la:', y_train[10])"
      ],
      "metadata": {
        "colab": {
          "base_uri": "https://localhost:8080/",
          "height": 448
        },
        "id": "FdTE1WjaoIYr",
        "outputId": "2ce4f17f-adac-403c-d7d7-b403ae8eb745"
      },
      "execution_count": 19,
      "outputs": [
        {
          "output_type": "display_data",
          "data": {
            "text/plain": [
              "<Figure size 640x480 with 1 Axes>"
            ],
            "image/png": "[encoded data removed]"
          },
          "metadata": {}
        },
        {
          "output_type": "stream",
          "name": "stdout",
          "text": [
            "Nay la: [4]\n"
          ]
        }
      ]
    },
    {
      "cell_type": "code",
      "source": [
        "x_train=x_train.reshape((50000,32*32*3)) #60k tấm ảnh\n",
        "x_train=x_train.astype('float')/255\n",
        "\n",
        "x_test=x_test.reshape((10000,32*32*3)) #10k tấm ảnh\n",
        "x_test=x_test.astype('float')/255\n",
        "\n",
        "\n",
        "print(x_train.shape)\n",
        "print(x_test.shape)"
      ],
      "metadata": {
        "colab": {
          "base_uri": "https://localhost:8080/"
        },
        "id": "ekQtaRZfmObL",
        "outputId": "e72c4a04-23f9-44cf-b721-2b1ee7ec24a5"
      },
      "execution_count": 20,
      "outputs": [
        {
          "output_type": "stream",
          "name": "stdout",
          "text": [
            "(50000, 3072)\n",
            "(10000, 3072)\n"
          ]
        }
      ]
    },
    {
      "cell_type": "code",
      "source": [
        "#Chuyển 1 bit thành nhiều bit đầu ra\n",
        "# (x_train, y_train), (x_test, y_test) = cifar10.load_data()\n",
        "\n",
        "from keras.utils import to_categorical\n",
        "y_train = to_categorical(y_train,10)  #1 bit thành 10 bit\n",
        "y_test = to_categorical(y_test,10)\n",
        "print(y_train.shape)\n",
        "print(y_test.shape)"
      ],
      "metadata": {
        "colab": {
          "base_uri": "https://localhost:8080/"
        },
        "id": "WwOTCyZ6rU6i",
        "outputId": "885cce0d-5c3b-42f4-ae2d-a8afb4e66dfb"
      },
      "execution_count": 21,
      "outputs": [
        {
          "output_type": "stream",
          "name": "stdout",
          "text": [
            "(50000, 10)\n",
            "(10000, 10)\n"
          ]
        }
      ]
    },
    {
      "cell_type": "code",
      "source": [],
      "metadata": {
        "id": "81uVGle-uMG-"
      },
      "execution_count": 22,
      "outputs": []
    },
    {
      "cell_type": "code",
      "source": [],
      "metadata": {
        "id": "3RKouGRwuL-l"
      },
      "execution_count": 22,
      "outputs": []
    },
    {
      "cell_type": "code",
      "source": [
        "from keras.models import Sequential #Sequential: mô tả tuần tự\n",
        "from keras.layers import Dense #Dense: fully connected, 1 tế bào kết nối hết đầy đủ đến các tế bào tiếp theo nó\n",
        "model = Sequential() #Lấy mô hình mạng ANN\n",
        "model.add(Dense(512, activation='relu', input_shape=(28*28,)))       #hàm truyền là hàm relu()\n",
        "model.add(Dense(10, activation='softmax'))\n",
        "model.summary()"
      ],
      "metadata": {
        "colab": {
          "base_uri": "https://localhost:8080/"
        },
        "id": "TssSh_l_sCuB",
        "outputId": "0d0a273e-8417-442e-b1d5-4fff4203bc8e"
      },
      "execution_count": 22,
      "outputs": [
        {
          "output_type": "stream",
          "name": "stdout",
          "text": [
            "Model: \"sequential_1\"\n",
            "_________________________________________________________________\n",
            " Layer (type)                Output Shape              Param #   \n",
            "=================================================================\n",
            " dense_2 (Dense)             (None, 512)               401920    \n",
            "                                                                 \n",
            " dense_3 (Dense)             (None, 10)                5130      \n",
            "                                                                 \n",
            "=================================================================\n",
            "Total params: 407,050\n",
            "Trainable params: 407,050\n",
            "Non-trainable params: 0\n",
            "_________________________________________________________________\n"
          ]
        }
      ]
    },
    {
      "cell_type": "code",
      "source": [
        "from tensorflow.python import summary\n",
        "from keras.models import Sequential  #sequential: mạng mô tả ANN, các lớp kế tiếp nhau; full_connected: sự kết nối đầy đủ giữa các tế bào\n",
        "from keras.layers import Dense,Activation,Dropout\n",
        "model=Sequential()\n",
        "model.add(Dense(1000,activation='relu',input_shape=(3*32*32,),name='layer1'))\n",
        "model.add(Dropout(0.2)) \n",
        "model.add(Dense(256, activation = 'relu',name='layer2'))\n",
        "model.add(Dropout(0.1)) \n",
        "model.add(Dense(128, activation = 'relu',name='layer3')) \n",
        "model.add(Dropout(0.1)) \n",
        "model.add(Dense(10,activation='softmax'))\n",
        "model.summary()"
      ],
      "metadata": {
        "colab": {
          "base_uri": "https://localhost:8080/"
        },
        "id": "L7aOHUYbL1hL",
        "outputId": "bb91b923-68df-4139-95be-11c72957abe5"
      },
      "execution_count": 23,
      "outputs": [
        {
          "output_type": "stream",
          "name": "stdout",
          "text": [
            "Model: \"sequential_2\"\n",
            "_________________________________________________________________\n",
            " Layer (type)                Output Shape              Param #   \n",
            "=================================================================\n",
            " layer1 (Dense)              (None, 1000)              3073000   \n",
            "                                                                 \n",
            " dropout (Dropout)           (None, 1000)              0         \n",
            "                                                                 \n",
            " layer2 (Dense)              (None, 256)               256256    \n",
            "                                                                 \n",
            " dropout_1 (Dropout)         (None, 256)               0         \n",
            "                                                                 \n",
            " layer3 (Dense)              (None, 128)               32896     \n",
            "                                                                 \n",
            " dropout_2 (Dropout)         (None, 128)               0         \n",
            "                                                                 \n",
            " dense_4 (Dense)             (None, 10)                1290      \n",
            "                                                                 \n",
            "=================================================================\n",
            "Total params: 3,363,442\n",
            "Trainable params: 3,363,442\n",
            "Non-trainable params: 0\n",
            "_________________________________________________________________\n"
          ]
        }
      ]
    },
    {
      "cell_type": "code",
      "source": [
        "x_train=x_train.reshape((50000,3*32*32))\n",
        "x_train=x_train.astype('float32')/255\n",
        "\n",
        "x_test=x_test.reshape((10000,3*32*32))\n",
        "x_test=x_test.astype('float32')/255\n",
        "\n",
        "print(x_train.shape)\n",
        "print(x_test.shape)"
      ],
      "metadata": {
        "id": "G6dhxqhTmKvZ",
        "colab": {
          "base_uri": "https://localhost:8080/"
        },
        "outputId": "9110173b-e6ba-46aa-eec0-65fcefb8e08e"
      },
      "execution_count": 24,
      "outputs": [
        {
          "output_type": "stream",
          "name": "stdout",
          "text": [
            "(50000, 3072)\n",
            "(10000, 3072)\n"
          ]
        }
      ]
    },
    {
      "cell_type": "code",
      "source": [
        "from keras.utils import to_categorical\n",
        "y_train=to_categorical(y_train,10)\n",
        "y_test=to_categorical(y_test,10)"
      ],
      "metadata": {
        "id": "sPaSeutGL4wQ"
      },
      "execution_count": 24,
      "outputs": []
    },
    {
      "cell_type": "code",
      "source": [
        "y_train.shape\n",
        "y_test.shape"
      ],
      "metadata": {
        "colab": {
          "base_uri": "https://localhost:8080/"
        },
        "id": "lZszEq-AL4Gl",
        "outputId": "d2ea8071-b3bc-4923-c7d0-15e42e8ff883"
      },
      "execution_count": 25,
      "outputs": [
        {
          "output_type": "execute_result",
          "data": {
            "text/plain": [
              "(10000, 10)"
            ]
          },
          "metadata": {},
          "execution_count": 25
        }
      ]
    },
    {
      "cell_type": "code",
      "source": [
        "model.compile(optimizer='rmsprop',loss='categorical_crossentropy',metrics=['accuracy'])\n",
        "model.fit(x_train, y_train, epochs=500,batch_size=512) # epochs: số lần học\n",
        "test_loss,test_acc=model.evaluate(x_test,y_test) \n",
        "print('Độ mất mát:',test_loss)\n",
        "print('Độ chính xác:',test_acc)"
      ],
      "metadata": {
        "colab": {
          "base_uri": "https://localhost:8080/"
        },
        "id": "8yQNsPLyL6m9",
        "outputId": "df33fead-649f-4c01-c054-c414eae2e27e"
      },
      "execution_count": 26,
      "outputs": [
        {
          "output_type": "stream",
          "name": "stdout",
          "text": [
            "Epoch 1/500\n",
            "98/98 [==============================] - 19s 186ms/step - loss: 2.2790 - accuracy: 0.1352\n",
            "Epoch 2/500\n",
            "98/98 [==============================] - 22s 227ms/step - loss: 2.1458 - accuracy: 0.1744\n",
            "Epoch 3/500\n",
            "98/98 [==============================] - 19s 194ms/step - loss: 2.0913 - accuracy: 0.2083\n",
            "Epoch 4/500\n",
            "98/98 [==============================] - 17s 173ms/step - loss: 2.0229 - accuracy: 0.2469\n",
            "Epoch 5/500\n",
            "98/98 [==============================] - 20s 203ms/step - loss: 1.9779 - accuracy: 0.2693\n",
            "Epoch 6/500\n",
            "98/98 [==============================] - 18s 178ms/step - loss: 1.9398 - accuracy: 0.2908\n",
            "Epoch 7/500\n",
            "98/98 [==============================] - 17s 173ms/step - loss: 1.9141 - accuracy: 0.3037\n",
            "Epoch 8/500\n",
            "98/98 [==============================] - 17s 176ms/step - loss: 1.8865 - accuracy: 0.3121\n",
            "Epoch 9/500\n",
            "98/98 [==============================] - 18s 187ms/step - loss: 1.8593 - accuracy: 0.3224\n",
            "Epoch 10/500\n",
            "98/98 [==============================] - 17s 173ms/step - loss: 1.8393 - accuracy: 0.3355\n",
            "Epoch 11/500\n",
            "98/98 [==============================] - 17s 173ms/step - loss: 1.8120 - accuracy: 0.3429\n",
            "Epoch 12/500\n",
            "98/98 [==============================] - 18s 184ms/step - loss: 1.7955 - accuracy: 0.3489\n",
            "Epoch 13/500\n",
            "98/98 [==============================] - 17s 172ms/step - loss: 1.7724 - accuracy: 0.3570\n",
            "Epoch 14/500\n",
            "98/98 [==============================] - 17s 173ms/step - loss: 1.7596 - accuracy: 0.3604\n",
            "Epoch 15/500\n",
            "98/98 [==============================] - 19s 191ms/step - loss: 1.7369 - accuracy: 0.3719\n",
            "Epoch 16/500\n",
            "98/98 [==============================] - 17s 173ms/step - loss: 1.7215 - accuracy: 0.3766\n",
            "Epoch 17/500\n",
            "98/98 [==============================] - 17s 176ms/step - loss: 1.7129 - accuracy: 0.3823\n",
            "Epoch 18/500\n",
            "98/98 [==============================] - 18s 187ms/step - loss: 1.6919 - accuracy: 0.3914\n",
            "Epoch 19/500\n",
            "98/98 [==============================] - 18s 184ms/step - loss: 1.6806 - accuracy: 0.3929\n",
            "Epoch 20/500\n",
            "98/98 [==============================] - 17s 174ms/step - loss: 1.6652 - accuracy: 0.4008\n",
            "Epoch 21/500\n",
            "98/98 [==============================] - 18s 186ms/step - loss: 1.6533 - accuracy: 0.4073\n",
            "Epoch 22/500\n",
            "98/98 [==============================] - 17s 173ms/step - loss: 1.6415 - accuracy: 0.4108\n",
            "Epoch 23/500\n",
            "98/98 [==============================] - 17s 172ms/step - loss: 1.6274 - accuracy: 0.4176\n",
            "Epoch 24/500\n",
            "98/98 [==============================] - 18s 185ms/step - loss: 1.6184 - accuracy: 0.4200\n",
            "Epoch 25/500\n",
            "98/98 [==============================] - 17s 172ms/step - loss: 1.6113 - accuracy: 0.4216\n",
            "Epoch 26/500\n",
            "98/98 [==============================] - 20s 207ms/step - loss: 1.5969 - accuracy: 0.4280\n",
            "Epoch 27/500\n",
            "98/98 [==============================] - 18s 182ms/step - loss: 1.5844 - accuracy: 0.4310\n",
            "Epoch 28/500\n",
            "98/98 [==============================] - 17s 173ms/step - loss: 1.5742 - accuracy: 0.4356\n",
            "Epoch 29/500\n",
            "98/98 [==============================] - 17s 175ms/step - loss: 1.5631 - accuracy: 0.4414\n",
            "Epoch 30/500\n",
            "98/98 [==============================] - 18s 184ms/step - loss: 1.5557 - accuracy: 0.4430\n",
            "Epoch 31/500\n",
            "98/98 [==============================] - 17s 173ms/step - loss: 1.5440 - accuracy: 0.4448\n",
            "Epoch 32/500\n",
            "98/98 [==============================] - 17s 173ms/step - loss: 1.5308 - accuracy: 0.4518\n",
            "Epoch 33/500\n",
            "98/98 [==============================] - 18s 186ms/step - loss: 1.5293 - accuracy: 0.4536\n",
            "Epoch 34/500\n",
            "98/98 [==============================] - 17s 174ms/step - loss: 1.5158 - accuracy: 0.4556\n",
            "Epoch 35/500\n",
            "98/98 [==============================] - 17s 173ms/step - loss: 1.5054 - accuracy: 0.4628\n",
            "Epoch 36/500\n",
            "98/98 [==============================] - 18s 187ms/step - loss: 1.5041 - accuracy: 0.4617\n",
            "Epoch 37/500\n",
            "98/98 [==============================] - 17s 173ms/step - loss: 1.4864 - accuracy: 0.4664\n",
            "Epoch 38/500\n",
            "98/98 [==============================] - 17s 173ms/step - loss: 1.4801 - accuracy: 0.4691\n",
            "Epoch 39/500\n",
            "98/98 [==============================] - 18s 187ms/step - loss: 1.4684 - accuracy: 0.4752\n",
            "Epoch 40/500\n",
            "98/98 [==============================] - 30s 312ms/step - loss: 1.4643 - accuracy: 0.4766\n",
            "Epoch 41/500\n",
            "98/98 [==============================] - 18s 179ms/step - loss: 1.4492 - accuracy: 0.4804\n",
            "Epoch 42/500\n",
            "98/98 [==============================] - 18s 186ms/step - loss: 1.4465 - accuracy: 0.4827\n",
            "Epoch 43/500\n",
            "98/98 [==============================] - 17s 174ms/step - loss: 1.4397 - accuracy: 0.4857\n",
            "Epoch 44/500\n",
            "98/98 [==============================] - 27s 277ms/step - loss: 1.4358 - accuracy: 0.4870\n",
            "Epoch 45/500\n",
            "98/98 [==============================] - 24s 245ms/step - loss: 1.4297 - accuracy: 0.4878\n",
            "Epoch 46/500\n",
            "98/98 [==============================] - 18s 185ms/step - loss: 1.4168 - accuracy: 0.4903\n",
            "Epoch 47/500\n",
            "98/98 [==============================] - 20s 208ms/step - loss: 1.4091 - accuracy: 0.4975\n",
            "Epoch 48/500\n",
            "98/98 [==============================] - 23s 239ms/step - loss: 1.4017 - accuracy: 0.5008\n",
            "Epoch 49/500\n",
            "98/98 [==============================] - 21s 215ms/step - loss: 1.3949 - accuracy: 0.5012\n",
            "Epoch 50/500\n",
            "98/98 [==============================] - 19s 195ms/step - loss: 1.3911 - accuracy: 0.5023\n",
            "Epoch 51/500\n",
            "98/98 [==============================] - 18s 181ms/step - loss: 1.3855 - accuracy: 0.5038\n",
            "Epoch 52/500\n",
            "98/98 [==============================] - 18s 179ms/step - loss: 1.3764 - accuracy: 0.5094\n",
            "Epoch 53/500\n",
            "98/98 [==============================] - 18s 181ms/step - loss: 1.3749 - accuracy: 0.5097\n",
            "Epoch 54/500\n",
            "98/98 [==============================] - 18s 185ms/step - loss: 1.3584 - accuracy: 0.5169\n",
            "Epoch 55/500\n",
            "98/98 [==============================] - 17s 175ms/step - loss: 1.3602 - accuracy: 0.5134\n",
            "Epoch 56/500\n",
            "98/98 [==============================] - 19s 189ms/step - loss: 1.3512 - accuracy: 0.5167\n",
            "Epoch 57/500\n",
            "98/98 [==============================] - 17s 175ms/step - loss: 1.3409 - accuracy: 0.5191\n",
            "Epoch 58/500\n",
            "98/98 [==============================] - 18s 185ms/step - loss: 1.3338 - accuracy: 0.5215\n",
            "Epoch 59/500\n",
            "98/98 [==============================] - 24s 247ms/step - loss: 1.3295 - accuracy: 0.5224\n",
            "Epoch 60/500\n",
            "98/98 [==============================] - 17s 173ms/step - loss: 1.3259 - accuracy: 0.5263\n",
            "Epoch 61/500\n",
            "98/98 [==============================] - 18s 186ms/step - loss: 1.3166 - accuracy: 0.5294\n",
            "Epoch 62/500\n",
            "98/98 [==============================] - 17s 174ms/step - loss: 1.3129 - accuracy: 0.5293\n",
            "Epoch 63/500\n",
            "98/98 [==============================] - 17s 172ms/step - loss: 1.3095 - accuracy: 0.5319\n",
            "Epoch 64/500\n",
            "98/98 [==============================] - 18s 181ms/step - loss: 1.3041 - accuracy: 0.5359\n",
            "Epoch 65/500\n",
            "98/98 [==============================] - 17s 177ms/step - loss: 1.2944 - accuracy: 0.5362\n",
            "Epoch 66/500\n",
            "98/98 [==============================] - 17s 175ms/step - loss: 1.2915 - accuracy: 0.5387\n",
            "Epoch 67/500\n",
            "98/98 [==============================] - 17s 177ms/step - loss: 1.2806 - accuracy: 0.5417\n",
            "Epoch 68/500\n",
            "98/98 [==============================] - 18s 182ms/step - loss: 1.2799 - accuracy: 0.5446\n",
            "Epoch 69/500\n",
            "98/98 [==============================] - 17s 174ms/step - loss: 1.2756 - accuracy: 0.5444\n",
            "Epoch 70/500\n",
            "98/98 [==============================] - 20s 207ms/step - loss: 1.2621 - accuracy: 0.5483\n",
            "Epoch 71/500\n",
            "98/98 [==============================] - 17s 173ms/step - loss: 1.2627 - accuracy: 0.5486\n",
            "Epoch 72/500\n",
            "98/98 [==============================] - 17s 173ms/step - loss: 1.2564 - accuracy: 0.5508\n",
            "Epoch 73/500\n",
            "98/98 [==============================] - 18s 185ms/step - loss: 1.2451 - accuracy: 0.5552\n",
            "Epoch 74/500\n",
            "98/98 [==============================] - 17s 174ms/step - loss: 1.2430 - accuracy: 0.5569\n",
            "Epoch 75/500\n",
            "98/98 [==============================] - 17s 173ms/step - loss: 1.2361 - accuracy: 0.5600\n",
            "Epoch 76/500\n",
            "98/98 [==============================] - 18s 180ms/step - loss: 1.2343 - accuracy: 0.5584\n",
            "Epoch 77/500\n",
            "98/98 [==============================] - 17s 177ms/step - loss: 1.2313 - accuracy: 0.5617\n",
            "Epoch 78/500\n",
            "98/98 [==============================] - 17s 173ms/step - loss: 1.2191 - accuracy: 0.5652\n",
            "Epoch 79/500\n",
            "98/98 [==============================] - 17s 176ms/step - loss: 1.2178 - accuracy: 0.5664\n",
            "Epoch 80/500\n",
            "98/98 [==============================] - 18s 182ms/step - loss: 1.2149 - accuracy: 0.5656\n",
            "Epoch 81/500\n",
            "98/98 [==============================] - 17s 173ms/step - loss: 1.2049 - accuracy: 0.5690\n",
            "Epoch 82/500\n",
            "98/98 [==============================] - 17s 174ms/step - loss: 1.2026 - accuracy: 0.5685\n",
            "Epoch 83/500\n",
            "98/98 [==============================] - 18s 186ms/step - loss: 1.1952 - accuracy: 0.5740\n",
            "Epoch 84/500\n",
            "98/98 [==============================] - 17s 173ms/step - loss: 1.1925 - accuracy: 0.5749\n",
            "Epoch 85/500\n",
            "98/98 [==============================] - 17s 175ms/step - loss: 1.1879 - accuracy: 0.5774\n",
            "Epoch 86/500\n",
            "98/98 [==============================] - 18s 187ms/step - loss: 1.1820 - accuracy: 0.5780\n",
            "Epoch 87/500\n",
            "98/98 [==============================] - 17s 175ms/step - loss: 1.1773 - accuracy: 0.5792\n",
            "Epoch 88/500\n",
            "98/98 [==============================] - 17s 172ms/step - loss: 1.1730 - accuracy: 0.5836\n",
            "Epoch 89/500\n",
            "98/98 [==============================] - 18s 185ms/step - loss: 1.1641 - accuracy: 0.5857\n",
            "Epoch 90/500\n",
            "98/98 [==============================] - 17s 173ms/step - loss: 1.1630 - accuracy: 0.5837\n",
            "Epoch 91/500\n",
            "98/98 [==============================] - 17s 173ms/step - loss: 1.1596 - accuracy: 0.5862\n",
            "Epoch 92/500\n",
            "98/98 [==============================] - 18s 187ms/step - loss: 1.1457 - accuracy: 0.5916\n",
            "Epoch 93/500\n",
            "98/98 [==============================] - 17s 174ms/step - loss: 1.1428 - accuracy: 0.5912\n",
            "Epoch 94/500\n",
            "98/98 [==============================] - 17s 174ms/step - loss: 1.1402 - accuracy: 0.5926\n",
            "Epoch 95/500\n",
            "98/98 [==============================] - 18s 187ms/step - loss: 1.1342 - accuracy: 0.5911\n",
            "Epoch 96/500\n",
            "98/98 [==============================] - 17s 173ms/step - loss: 1.1293 - accuracy: 0.5974\n",
            "Epoch 97/500\n",
            "98/98 [==============================] - 17s 172ms/step - loss: 1.1342 - accuracy: 0.5930\n",
            "Epoch 98/500\n",
            "98/98 [==============================] - 17s 178ms/step - loss: 1.1203 - accuracy: 0.5996\n",
            "Epoch 99/500\n",
            "98/98 [==============================] - 18s 179ms/step - loss: 1.1209 - accuracy: 0.5987\n",
            "Epoch 100/500\n",
            "98/98 [==============================] - 17s 173ms/step - loss: 1.1163 - accuracy: 0.5991\n",
            "Epoch 101/500\n",
            "98/98 [==============================] - 18s 180ms/step - loss: 1.0985 - accuracy: 0.6052\n",
            "Epoch 102/500\n",
            "98/98 [==============================] - 18s 183ms/step - loss: 1.0986 - accuracy: 0.6095\n",
            "Epoch 103/500\n",
            "98/98 [==============================] - 18s 180ms/step - loss: 1.0938 - accuracy: 0.6078\n",
            "Epoch 104/500\n",
            "98/98 [==============================] - 21s 213ms/step - loss: 1.0921 - accuracy: 0.6077\n",
            "Epoch 105/500\n",
            "98/98 [==============================] - 17s 172ms/step - loss: 1.0892 - accuracy: 0.6118\n",
            "Epoch 106/500\n",
            "98/98 [==============================] - 17s 175ms/step - loss: 1.0796 - accuracy: 0.6136\n",
            "Epoch 107/500\n",
            "98/98 [==============================] - 18s 188ms/step - loss: 1.0774 - accuracy: 0.6131\n",
            "Epoch 108/500\n",
            "98/98 [==============================] - 17s 174ms/step - loss: 1.0719 - accuracy: 0.6161\n",
            "Epoch 109/500\n",
            "98/98 [==============================] - 17s 173ms/step - loss: 1.0659 - accuracy: 0.6210\n",
            "Epoch 110/500\n",
            "98/98 [==============================] - 18s 187ms/step - loss: 1.0631 - accuracy: 0.6210\n",
            "Epoch 111/500\n",
            "98/98 [==============================] - 17s 174ms/step - loss: 1.0590 - accuracy: 0.6223\n",
            "Epoch 112/500\n",
            "98/98 [==============================] - 17s 172ms/step - loss: 1.0529 - accuracy: 0.6231\n",
            "Epoch 113/500\n",
            "98/98 [==============================] - 18s 182ms/step - loss: 1.0492 - accuracy: 0.6260\n",
            "Epoch 114/500\n",
            "98/98 [==============================] - 17s 176ms/step - loss: 1.0385 - accuracy: 0.6274\n",
            "Epoch 115/500\n",
            "98/98 [==============================] - 17s 173ms/step - loss: 1.0378 - accuracy: 0.6275\n",
            "Epoch 116/500\n",
            "98/98 [==============================] - 17s 173ms/step - loss: 1.0338 - accuracy: 0.6310\n",
            "Epoch 117/500\n",
            "98/98 [==============================] - 18s 185ms/step - loss: 1.0235 - accuracy: 0.6320\n",
            "Epoch 118/500\n",
            "98/98 [==============================] - 17s 174ms/step - loss: 1.0283 - accuracy: 0.6335\n",
            "Epoch 119/500\n",
            "98/98 [==============================] - 17s 172ms/step - loss: 1.0236 - accuracy: 0.6313\n",
            "Epoch 120/500\n",
            "98/98 [==============================] - 18s 187ms/step - loss: 1.0194 - accuracy: 0.6354\n",
            "Epoch 121/500\n",
            "98/98 [==============================] - 17s 173ms/step - loss: 1.0102 - accuracy: 0.6386\n",
            "Epoch 122/500\n",
            "98/98 [==============================] - 17s 174ms/step - loss: 1.0034 - accuracy: 0.6412\n",
            "Epoch 123/500\n",
            "98/98 [==============================] - 18s 187ms/step - loss: 1.0016 - accuracy: 0.6419\n",
            "Epoch 124/500\n",
            "98/98 [==============================] - 17s 174ms/step - loss: 0.9996 - accuracy: 0.6411\n",
            "Epoch 125/500\n",
            "98/98 [==============================] - 17s 174ms/step - loss: 0.9946 - accuracy: 0.6456\n",
            "Epoch 126/500\n",
            "98/98 [==============================] - 18s 188ms/step - loss: 0.9855 - accuracy: 0.6439\n",
            "Epoch 127/500\n",
            "98/98 [==============================] - 17s 175ms/step - loss: 0.9858 - accuracy: 0.6478\n",
            "Epoch 128/500\n",
            "98/98 [==============================] - 17s 174ms/step - loss: 0.9801 - accuracy: 0.6486\n",
            "Epoch 129/500\n",
            "98/98 [==============================] - 18s 187ms/step - loss: 0.9745 - accuracy: 0.6513\n",
            "Epoch 130/500\n",
            "98/98 [==============================] - 17s 174ms/step - loss: 0.9651 - accuracy: 0.6535\n",
            "Epoch 131/500\n",
            "98/98 [==============================] - 17s 174ms/step - loss: 0.9630 - accuracy: 0.6552\n",
            "Epoch 132/500\n",
            "98/98 [==============================] - 18s 185ms/step - loss: 0.9643 - accuracy: 0.6539\n",
            "Epoch 133/500\n",
            "98/98 [==============================] - 17s 175ms/step - loss: 0.9518 - accuracy: 0.6589\n",
            "Epoch 134/500\n",
            "98/98 [==============================] - 17s 175ms/step - loss: 0.9493 - accuracy: 0.6595\n",
            "Epoch 135/500\n",
            "98/98 [==============================] - 18s 183ms/step - loss: 0.9435 - accuracy: 0.6628\n",
            "Epoch 136/500\n",
            "98/98 [==============================] - 18s 178ms/step - loss: 0.9414 - accuracy: 0.6624\n",
            "Epoch 137/500\n",
            "98/98 [==============================] - 17s 175ms/step - loss: 0.9316 - accuracy: 0.6681\n",
            "Epoch 138/500\n",
            "98/98 [==============================] - 18s 180ms/step - loss: 0.9319 - accuracy: 0.6617\n",
            "Epoch 139/500\n",
            "98/98 [==============================] - 21s 218ms/step - loss: 0.9301 - accuracy: 0.6688\n",
            "Epoch 140/500\n",
            "98/98 [==============================] - 17s 176ms/step - loss: 0.9238 - accuracy: 0.6677\n",
            "Epoch 141/500\n",
            "98/98 [==============================] - 18s 185ms/step - loss: 0.9135 - accuracy: 0.6721\n",
            "Epoch 142/500\n",
            "98/98 [==============================] - 17s 174ms/step - loss: 0.9174 - accuracy: 0.6712\n",
            "Epoch 143/500\n",
            "98/98 [==============================] - 17s 173ms/step - loss: 0.9113 - accuracy: 0.6724\n",
            "Epoch 144/500\n",
            "98/98 [==============================] - 18s 188ms/step - loss: 0.9081 - accuracy: 0.6732\n",
            "Epoch 145/500\n",
            "98/98 [==============================] - 19s 189ms/step - loss: 0.9022 - accuracy: 0.6752\n",
            "Epoch 146/500\n",
            "98/98 [==============================] - 17s 178ms/step - loss: 0.8903 - accuracy: 0.6790\n",
            "Epoch 147/500\n",
            "98/98 [==============================] - 18s 182ms/step - loss: 0.8988 - accuracy: 0.6784\n",
            "Epoch 148/500\n",
            "98/98 [==============================] - 17s 173ms/step - loss: 0.8904 - accuracy: 0.6785\n",
            "Epoch 149/500\n",
            "98/98 [==============================] - 17s 172ms/step - loss: 0.8875 - accuracy: 0.6810\n",
            "Epoch 150/500\n",
            "98/98 [==============================] - 19s 194ms/step - loss: 0.8877 - accuracy: 0.6815\n",
            "Epoch 151/500\n",
            "98/98 [==============================] - 18s 181ms/step - loss: 0.8803 - accuracy: 0.6827\n",
            "Epoch 152/500\n",
            "98/98 [==============================] - 18s 181ms/step - loss: 0.8741 - accuracy: 0.6836\n",
            "Epoch 153/500\n",
            "98/98 [==============================] - 18s 181ms/step - loss: 0.8635 - accuracy: 0.6890\n",
            "Epoch 154/500\n",
            "98/98 [==============================] - 17s 175ms/step - loss: 0.8625 - accuracy: 0.6903\n",
            "Epoch 155/500\n",
            "98/98 [==============================] - 18s 180ms/step - loss: 0.8642 - accuracy: 0.6873\n",
            "Epoch 156/500\n",
            "98/98 [==============================] - 18s 186ms/step - loss: 0.8572 - accuracy: 0.6928\n",
            "Epoch 157/500\n",
            "98/98 [==============================] - 17s 174ms/step - loss: 0.8526 - accuracy: 0.6938\n",
            "Epoch 158/500\n",
            "98/98 [==============================] - 18s 182ms/step - loss: 0.8481 - accuracy: 0.6950\n",
            "Epoch 159/500\n",
            "98/98 [==============================] - 18s 180ms/step - loss: 0.8412 - accuracy: 0.6982\n",
            "Epoch 160/500\n",
            "98/98 [==============================] - 17s 174ms/step - loss: 0.8395 - accuracy: 0.6983\n",
            "Epoch 161/500\n",
            "98/98 [==============================] - 18s 182ms/step - loss: 0.8358 - accuracy: 0.6977\n",
            "Epoch 162/500\n",
            "98/98 [==============================] - 18s 179ms/step - loss: 0.8366 - accuracy: 0.6976\n",
            "Epoch 163/500\n",
            "98/98 [==============================] - 17s 174ms/step - loss: 0.8243 - accuracy: 0.7023\n",
            "Epoch 164/500\n",
            "98/98 [==============================] - 22s 224ms/step - loss: 0.8165 - accuracy: 0.7058\n",
            "Epoch 165/500\n",
            "98/98 [==============================] - 26s 265ms/step - loss: 0.8164 - accuracy: 0.7072\n",
            "Epoch 166/500\n",
            "98/98 [==============================] - 17s 176ms/step - loss: 0.8183 - accuracy: 0.7049\n",
            "Epoch 167/500\n",
            "98/98 [==============================] - 17s 174ms/step - loss: 0.8095 - accuracy: 0.7109\n",
            "Epoch 168/500\n",
            "98/98 [==============================] - 18s 188ms/step - loss: 0.8060 - accuracy: 0.7091\n",
            "Epoch 169/500\n",
            "98/98 [==============================] - 17s 174ms/step - loss: 0.8018 - accuracy: 0.7106\n",
            "Epoch 170/500\n",
            "98/98 [==============================] - 17s 174ms/step - loss: 0.8027 - accuracy: 0.7087\n",
            "Epoch 171/500\n",
            "98/98 [==============================] - 19s 192ms/step - loss: 0.7996 - accuracy: 0.7107\n",
            "Epoch 172/500\n",
            "98/98 [==============================] - 17s 174ms/step - loss: 0.7930 - accuracy: 0.7154\n",
            "Epoch 173/500\n",
            "98/98 [==============================] - 17s 174ms/step - loss: 0.7858 - accuracy: 0.7158\n",
            "Epoch 174/500\n",
            "98/98 [==============================] - 18s 187ms/step - loss: 0.7756 - accuracy: 0.7205\n",
            "Epoch 175/500\n",
            "98/98 [==============================] - 17s 174ms/step - loss: 0.7694 - accuracy: 0.7241\n",
            "Epoch 176/500\n",
            "98/98 [==============================] - 17s 174ms/step - loss: 0.7736 - accuracy: 0.7223\n",
            "Epoch 177/500\n",
            "98/98 [==============================] - 19s 198ms/step - loss: 0.7761 - accuracy: 0.7185\n",
            "Epoch 178/500\n",
            "98/98 [==============================] - 17s 174ms/step - loss: 0.7679 - accuracy: 0.7226\n",
            "Epoch 179/500\n",
            "98/98 [==============================] - 17s 175ms/step - loss: 0.7641 - accuracy: 0.7253\n",
            "Epoch 180/500\n",
            "98/98 [==============================] - 19s 190ms/step - loss: 0.7616 - accuracy: 0.7244\n",
            "Epoch 181/500\n",
            "98/98 [==============================] - 17s 174ms/step - loss: 0.7549 - accuracy: 0.7280\n",
            "Epoch 182/500\n",
            "98/98 [==============================] - 17s 173ms/step - loss: 0.7526 - accuracy: 0.7304\n",
            "Epoch 183/500\n",
            "98/98 [==============================] - 18s 188ms/step - loss: 0.7521 - accuracy: 0.7292\n",
            "Epoch 184/500\n",
            "98/98 [==============================] - 17s 176ms/step - loss: 0.7462 - accuracy: 0.7308\n",
            "Epoch 185/500\n",
            "98/98 [==============================] - 17s 174ms/step - loss: 0.7427 - accuracy: 0.7308\n",
            "Epoch 186/500\n",
            "98/98 [==============================] - 19s 189ms/step - loss: 0.7382 - accuracy: 0.7335\n",
            "Epoch 187/500\n",
            "98/98 [==============================] - 17s 175ms/step - loss: 0.7358 - accuracy: 0.7346\n",
            "Epoch 188/500\n",
            "98/98 [==============================] - 17s 176ms/step - loss: 0.7308 - accuracy: 0.7359\n",
            "Epoch 189/500\n",
            "98/98 [==============================] - 18s 189ms/step - loss: 0.7263 - accuracy: 0.7382\n",
            "Epoch 190/500\n",
            "98/98 [==============================] - 17s 174ms/step - loss: 0.7254 - accuracy: 0.7396\n",
            "Epoch 191/500\n",
            "98/98 [==============================] - 17s 175ms/step - loss: 0.7182 - accuracy: 0.7413\n",
            "Epoch 192/500\n",
            "98/98 [==============================] - 18s 187ms/step - loss: 0.7133 - accuracy: 0.7430\n",
            "Epoch 193/500\n",
            "98/98 [==============================] - 17s 176ms/step - loss: 0.7186 - accuracy: 0.7407\n",
            "Epoch 194/500\n",
            "98/98 [==============================] - 17s 176ms/step - loss: 0.7144 - accuracy: 0.7419\n",
            "Epoch 195/500\n",
            "98/98 [==============================] - 19s 190ms/step - loss: 0.7101 - accuracy: 0.7437\n",
            "Epoch 196/500\n",
            "98/98 [==============================] - 17s 176ms/step - loss: 0.7053 - accuracy: 0.7447\n",
            "Epoch 197/500\n",
            "98/98 [==============================] - 17s 175ms/step - loss: 0.7060 - accuracy: 0.7447\n",
            "Epoch 198/500\n",
            "98/98 [==============================] - 18s 189ms/step - loss: 0.6980 - accuracy: 0.7488\n",
            "Epoch 199/500\n",
            "98/98 [==============================] - 17s 174ms/step - loss: 0.6968 - accuracy: 0.7478\n",
            "Epoch 200/500\n",
            "98/98 [==============================] - 17s 175ms/step - loss: 0.6898 - accuracy: 0.7511\n",
            "Epoch 201/500\n",
            "98/98 [==============================] - 18s 188ms/step - loss: 0.6910 - accuracy: 0.7515\n",
            "Epoch 202/500\n",
            "98/98 [==============================] - 17s 175ms/step - loss: 0.6867 - accuracy: 0.7527\n",
            "Epoch 203/500\n",
            "98/98 [==============================] - 17s 176ms/step - loss: 0.6762 - accuracy: 0.7554\n",
            "Epoch 204/500\n",
            "98/98 [==============================] - 18s 186ms/step - loss: 0.6821 - accuracy: 0.7569\n",
            "Epoch 205/500\n",
            "98/98 [==============================] - 17s 177ms/step - loss: 0.6743 - accuracy: 0.7561\n",
            "Epoch 206/500\n",
            "98/98 [==============================] - 17s 175ms/step - loss: 0.6748 - accuracy: 0.7539\n",
            "Epoch 207/500\n",
            "98/98 [==============================] - 18s 188ms/step - loss: 0.6723 - accuracy: 0.7564\n",
            "Epoch 208/500\n",
            "98/98 [==============================] - 18s 178ms/step - loss: 0.6676 - accuracy: 0.7606\n",
            "Epoch 209/500\n",
            "98/98 [==============================] - 17s 175ms/step - loss: 0.6523 - accuracy: 0.7659\n",
            "Epoch 210/500\n",
            "98/98 [==============================] - 18s 185ms/step - loss: 0.6670 - accuracy: 0.7595\n",
            "Epoch 211/500\n",
            "98/98 [==============================] - 17s 178ms/step - loss: 0.6598 - accuracy: 0.7604\n",
            "Epoch 212/500\n",
            "98/98 [==============================] - 17s 174ms/step - loss: 0.6520 - accuracy: 0.7650\n",
            "Epoch 213/500\n",
            "98/98 [==============================] - 18s 182ms/step - loss: 0.6440 - accuracy: 0.7669\n",
            "Epoch 214/500\n",
            "98/98 [==============================] - 18s 179ms/step - loss: 0.6491 - accuracy: 0.7647\n",
            "Epoch 215/500\n",
            "98/98 [==============================] - 17s 175ms/step - loss: 0.6406 - accuracy: 0.7698\n",
            "Epoch 216/500\n",
            "98/98 [==============================] - 17s 179ms/step - loss: 0.6426 - accuracy: 0.7699\n",
            "Epoch 217/500\n",
            "98/98 [==============================] - 18s 184ms/step - loss: 0.6368 - accuracy: 0.7700\n",
            "Epoch 218/500\n",
            "98/98 [==============================] - 17s 175ms/step - loss: 0.6310 - accuracy: 0.7717\n",
            "Epoch 219/500\n",
            "98/98 [==============================] - 17s 177ms/step - loss: 0.6281 - accuracy: 0.7731\n",
            "Epoch 220/500\n",
            "98/98 [==============================] - 18s 185ms/step - loss: 0.6271 - accuracy: 0.7736\n",
            "Epoch 221/500\n",
            "98/98 [==============================] - 17s 177ms/step - loss: 0.6191 - accuracy: 0.7776\n",
            "Epoch 222/500\n",
            "98/98 [==============================] - 17s 178ms/step - loss: 0.6300 - accuracy: 0.7744\n",
            "Epoch 223/500\n",
            "98/98 [==============================] - 18s 185ms/step - loss: 0.6185 - accuracy: 0.7767\n",
            "Epoch 224/500\n",
            "98/98 [==============================] - 17s 175ms/step - loss: 0.6226 - accuracy: 0.7731\n",
            "Epoch 225/500\n",
            "98/98 [==============================] - 17s 175ms/step - loss: 0.6118 - accuracy: 0.7773\n",
            "Epoch 226/500\n",
            "98/98 [==============================] - 18s 188ms/step - loss: 0.6096 - accuracy: 0.7800\n",
            "Epoch 227/500\n",
            "98/98 [==============================] - 17s 175ms/step - loss: 0.6093 - accuracy: 0.7801\n",
            "Epoch 228/500\n",
            "98/98 [==============================] - 17s 176ms/step - loss: 0.6140 - accuracy: 0.7794\n",
            "Epoch 229/500\n",
            "98/98 [==============================] - 19s 189ms/step - loss: 0.6031 - accuracy: 0.7843\n",
            "Epoch 230/500\n",
            "98/98 [==============================] - 17s 175ms/step - loss: 0.6077 - accuracy: 0.7807\n",
            "Epoch 231/500\n",
            "98/98 [==============================] - 17s 176ms/step - loss: 0.5962 - accuracy: 0.7857\n",
            "Epoch 232/500\n",
            "98/98 [==============================] - 19s 189ms/step - loss: 0.5980 - accuracy: 0.7829\n",
            "Epoch 233/500\n",
            "98/98 [==============================] - 17s 175ms/step - loss: 0.5907 - accuracy: 0.7872\n",
            "Epoch 234/500\n",
            "98/98 [==============================] - 17s 176ms/step - loss: 0.5864 - accuracy: 0.7884\n",
            "Epoch 235/500\n",
            "98/98 [==============================] - 19s 189ms/step - loss: 0.5830 - accuracy: 0.7904\n",
            "Epoch 236/500\n",
            "98/98 [==============================] - 17s 176ms/step - loss: 0.5868 - accuracy: 0.7876\n",
            "Epoch 237/500\n",
            "98/98 [==============================] - 17s 175ms/step - loss: 0.5832 - accuracy: 0.7901\n",
            "Epoch 238/500\n",
            "98/98 [==============================] - 18s 189ms/step - loss: 0.5697 - accuracy: 0.7939\n",
            "Epoch 239/500\n",
            "98/98 [==============================] - 17s 175ms/step - loss: 0.5824 - accuracy: 0.7898\n",
            "Epoch 240/500\n",
            "98/98 [==============================] - 17s 174ms/step - loss: 0.5724 - accuracy: 0.7930\n",
            "Epoch 241/500\n",
            "98/98 [==============================] - 18s 187ms/step - loss: 0.5730 - accuracy: 0.7935\n",
            "Epoch 242/500\n",
            "98/98 [==============================] - 17s 176ms/step - loss: 0.5637 - accuracy: 0.7969\n",
            "Epoch 243/500\n",
            "98/98 [==============================] - 17s 175ms/step - loss: 0.5670 - accuracy: 0.7951\n",
            "Epoch 244/500\n",
            "98/98 [==============================] - 18s 189ms/step - loss: 0.5665 - accuracy: 0.7943\n",
            "Epoch 245/500\n",
            "98/98 [==============================] - 17s 176ms/step - loss: 0.5611 - accuracy: 0.7985\n",
            "Epoch 246/500\n",
            "98/98 [==============================] - 17s 176ms/step - loss: 0.5587 - accuracy: 0.7975\n",
            "Epoch 247/500\n",
            "98/98 [==============================] - 18s 188ms/step - loss: 0.5512 - accuracy: 0.8005\n",
            "Epoch 248/500\n",
            "98/98 [==============================] - 17s 176ms/step - loss: 0.5553 - accuracy: 0.7998\n",
            "Epoch 249/500\n",
            "98/98 [==============================] - 17s 176ms/step - loss: 0.5480 - accuracy: 0.8024\n",
            "Epoch 250/500\n",
            "98/98 [==============================] - 18s 189ms/step - loss: 0.5464 - accuracy: 0.8029\n",
            "Epoch 251/500\n",
            "98/98 [==============================] - 17s 175ms/step - loss: 0.5476 - accuracy: 0.8017\n",
            "Epoch 252/500\n",
            "98/98 [==============================] - 17s 174ms/step - loss: 0.5540 - accuracy: 0.8019\n",
            "Epoch 253/500\n",
            "98/98 [==============================] - 19s 189ms/step - loss: 0.5411 - accuracy: 0.8048\n",
            "Epoch 254/500\n",
            "98/98 [==============================] - 17s 175ms/step - loss: 0.5389 - accuracy: 0.8055\n",
            "Epoch 255/500\n",
            "98/98 [==============================] - 17s 176ms/step - loss: 0.5373 - accuracy: 0.8072\n",
            "Epoch 256/500\n",
            "98/98 [==============================] - 18s 189ms/step - loss: 0.5349 - accuracy: 0.8082\n",
            "Epoch 257/500\n",
            "98/98 [==============================] - 17s 174ms/step - loss: 0.5327 - accuracy: 0.8086\n",
            "Epoch 258/500\n",
            "98/98 [==============================] - 17s 174ms/step - loss: 0.5274 - accuracy: 0.8084\n",
            "Epoch 259/500\n",
            "98/98 [==============================] - 19s 190ms/step - loss: 0.5225 - accuracy: 0.8124\n",
            "Epoch 260/500\n",
            "98/98 [==============================] - 17s 174ms/step - loss: 0.5239 - accuracy: 0.8102\n",
            "Epoch 261/500\n",
            "98/98 [==============================] - 17s 174ms/step - loss: 0.5236 - accuracy: 0.8099\n",
            "Epoch 262/500\n",
            "98/98 [==============================] - 18s 189ms/step - loss: 0.5262 - accuracy: 0.8101\n",
            "Epoch 263/500\n",
            "98/98 [==============================] - 17s 176ms/step - loss: 0.5175 - accuracy: 0.8141\n",
            "Epoch 264/500\n",
            "98/98 [==============================] - 17s 176ms/step - loss: 0.5198 - accuracy: 0.8139\n",
            "Epoch 265/500\n",
            "98/98 [==============================] - 18s 189ms/step - loss: 0.5069 - accuracy: 0.8175\n",
            "Epoch 266/500\n",
            "98/98 [==============================] - 17s 175ms/step - loss: 0.5091 - accuracy: 0.8168\n",
            "Epoch 267/500\n",
            "98/98 [==============================] - 17s 175ms/step - loss: 0.5139 - accuracy: 0.8168\n",
            "Epoch 268/500\n",
            "98/98 [==============================] - 18s 189ms/step - loss: 0.5127 - accuracy: 0.8138\n",
            "Epoch 269/500\n",
            "98/98 [==============================] - 17s 177ms/step - loss: 0.5113 - accuracy: 0.8169\n",
            "Epoch 270/500\n",
            "98/98 [==============================] - 17s 176ms/step - loss: 0.5016 - accuracy: 0.8199\n",
            "Epoch 271/500\n",
            "98/98 [==============================] - 18s 189ms/step - loss: 0.5040 - accuracy: 0.8179\n",
            "Epoch 272/500\n",
            "98/98 [==============================] - 17s 175ms/step - loss: 0.4966 - accuracy: 0.8220\n",
            "Epoch 273/500\n",
            "98/98 [==============================] - 17s 176ms/step - loss: 0.4998 - accuracy: 0.8186\n",
            "Epoch 274/500\n",
            "98/98 [==============================] - 18s 187ms/step - loss: 0.4984 - accuracy: 0.8202\n",
            "Epoch 275/500\n",
            "98/98 [==============================] - 17s 175ms/step - loss: 0.4949 - accuracy: 0.8216\n",
            "Epoch 276/500\n",
            "98/98 [==============================] - 17s 176ms/step - loss: 0.4945 - accuracy: 0.8216\n",
            "Epoch 277/500\n",
            "98/98 [==============================] - 18s 186ms/step - loss: 0.4882 - accuracy: 0.8245\n",
            "Epoch 278/500\n",
            "98/98 [==============================] - 17s 176ms/step - loss: 0.4907 - accuracy: 0.8224\n",
            "Epoch 279/500\n",
            "98/98 [==============================] - 17s 175ms/step - loss: 0.4809 - accuracy: 0.8238\n",
            "Epoch 280/500\n",
            "98/98 [==============================] - 18s 185ms/step - loss: 0.4863 - accuracy: 0.8237\n",
            "Epoch 281/500\n",
            "98/98 [==============================] - 18s 181ms/step - loss: 0.4861 - accuracy: 0.8253\n",
            "Epoch 282/500\n",
            "98/98 [==============================] - 17s 175ms/step - loss: 0.4767 - accuracy: 0.8284\n",
            "Epoch 283/500\n",
            "98/98 [==============================] - 18s 183ms/step - loss: 0.4763 - accuracy: 0.8275\n",
            "Epoch 284/500\n",
            "98/98 [==============================] - 18s 181ms/step - loss: 0.4765 - accuracy: 0.8271\n",
            "Epoch 285/500\n",
            "98/98 [==============================] - 17s 174ms/step - loss: 0.4686 - accuracy: 0.8312\n",
            "Epoch 286/500\n",
            "98/98 [==============================] - 18s 182ms/step - loss: 0.4702 - accuracy: 0.8290\n",
            "Epoch 287/500\n",
            "98/98 [==============================] - 18s 183ms/step - loss: 0.4680 - accuracy: 0.8322\n",
            "Epoch 288/500\n",
            "98/98 [==============================] - 17s 176ms/step - loss: 0.4664 - accuracy: 0.8319\n",
            "Epoch 289/500\n",
            "98/98 [==============================] - 19s 189ms/step - loss: 0.4675 - accuracy: 0.8300\n",
            "Epoch 290/500\n",
            "98/98 [==============================] - 18s 179ms/step - loss: 0.4703 - accuracy: 0.8311\n",
            "Epoch 291/500\n",
            "98/98 [==============================] - 17s 176ms/step - loss: 0.4693 - accuracy: 0.8303\n",
            "Epoch 292/500\n",
            "98/98 [==============================] - 18s 182ms/step - loss: 0.4652 - accuracy: 0.8325\n",
            "Epoch 293/500\n",
            "98/98 [==============================] - 18s 180ms/step - loss: 0.4613 - accuracy: 0.8335\n",
            "Epoch 294/500\n",
            "98/98 [==============================] - 17s 175ms/step - loss: 0.4552 - accuracy: 0.8355\n",
            "Epoch 295/500\n",
            "98/98 [==============================] - 18s 182ms/step - loss: 0.4539 - accuracy: 0.8357\n",
            "Epoch 296/500\n",
            "98/98 [==============================] - 18s 181ms/step - loss: 0.4550 - accuracy: 0.8356\n",
            "Epoch 297/500\n",
            "98/98 [==============================] - 17s 176ms/step - loss: 0.4536 - accuracy: 0.8377\n",
            "Epoch 298/500\n",
            "98/98 [==============================] - 18s 184ms/step - loss: 0.4510 - accuracy: 0.8379\n",
            "Epoch 299/500\n",
            "98/98 [==============================] - 18s 180ms/step - loss: 0.4462 - accuracy: 0.8386\n",
            "Epoch 300/500\n",
            "98/98 [==============================] - 17s 173ms/step - loss: 0.4500 - accuracy: 0.8366\n",
            "Epoch 301/500\n",
            "98/98 [==============================] - 18s 183ms/step - loss: 0.4393 - accuracy: 0.8399\n",
            "Epoch 302/500\n",
            "98/98 [==============================] - 18s 179ms/step - loss: 0.4423 - accuracy: 0.8414\n",
            "Epoch 303/500\n",
            "98/98 [==============================] - 18s 180ms/step - loss: 0.4463 - accuracy: 0.8387\n",
            "Epoch 304/500\n",
            "98/98 [==============================] - 18s 185ms/step - loss: 0.4417 - accuracy: 0.8415\n",
            "Epoch 305/500\n",
            "98/98 [==============================] - 18s 178ms/step - loss: 0.4381 - accuracy: 0.8419\n",
            "Epoch 306/500\n",
            "98/98 [==============================] - 17s 175ms/step - loss: 0.4352 - accuracy: 0.8420\n",
            "Epoch 307/500\n",
            "98/98 [==============================] - 18s 181ms/step - loss: 0.4367 - accuracy: 0.8422\n",
            "Epoch 308/500\n",
            "98/98 [==============================] - 18s 181ms/step - loss: 0.4432 - accuracy: 0.8407\n",
            "Epoch 309/500\n",
            "98/98 [==============================] - 17s 175ms/step - loss: 0.4284 - accuracy: 0.8444\n",
            "Epoch 310/500\n",
            "98/98 [==============================] - 18s 182ms/step - loss: 0.4367 - accuracy: 0.8434\n",
            "Epoch 311/500\n",
            "98/98 [==============================] - 18s 183ms/step - loss: 0.4279 - accuracy: 0.8466\n",
            "Epoch 312/500\n",
            "98/98 [==============================] - 18s 180ms/step - loss: 0.4269 - accuracy: 0.8467\n",
            "Epoch 313/500\n",
            "98/98 [==============================] - 18s 185ms/step - loss: 0.4310 - accuracy: 0.8453\n",
            "Epoch 314/500\n",
            "98/98 [==============================] - 18s 178ms/step - loss: 0.4239 - accuracy: 0.8494\n",
            "Epoch 315/500\n",
            "98/98 [==============================] - 17s 175ms/step - loss: 0.4247 - accuracy: 0.8489\n",
            "Epoch 316/500\n",
            "98/98 [==============================] - 19s 193ms/step - loss: 0.4297 - accuracy: 0.8442\n",
            "Epoch 317/500\n",
            "98/98 [==============================] - 17s 178ms/step - loss: 0.4217 - accuracy: 0.8480\n",
            "Epoch 318/500\n",
            "98/98 [==============================] - 17s 176ms/step - loss: 0.4188 - accuracy: 0.8508\n",
            "Epoch 319/500\n",
            "98/98 [==============================] - 18s 183ms/step - loss: 0.4094 - accuracy: 0.8510\n",
            "Epoch 320/500\n",
            "98/98 [==============================] - 18s 178ms/step - loss: 0.4173 - accuracy: 0.8502\n",
            "Epoch 321/500\n",
            "98/98 [==============================] - 17s 174ms/step - loss: 0.4165 - accuracy: 0.8501\n",
            "Epoch 322/500\n",
            "98/98 [==============================] - 18s 182ms/step - loss: 0.4171 - accuracy: 0.8497\n",
            "Epoch 323/500\n",
            "98/98 [==============================] - 18s 182ms/step - loss: 0.4075 - accuracy: 0.8529\n",
            "Epoch 324/500\n",
            "98/98 [==============================] - 17s 176ms/step - loss: 0.4027 - accuracy: 0.8555\n",
            "Epoch 325/500\n",
            "98/98 [==============================] - 18s 181ms/step - loss: 0.4107 - accuracy: 0.8509\n",
            "Epoch 326/500\n",
            "98/98 [==============================] - 18s 183ms/step - loss: 0.4026 - accuracy: 0.8560\n",
            "Epoch 327/500\n",
            "98/98 [==============================] - 17s 176ms/step - loss: 0.4074 - accuracy: 0.8538\n",
            "Epoch 328/500\n",
            "98/98 [==============================] - 18s 181ms/step - loss: 0.4038 - accuracy: 0.8557\n",
            "Epoch 329/500\n",
            "98/98 [==============================] - 18s 182ms/step - loss: 0.4041 - accuracy: 0.8537\n",
            "Epoch 330/500\n",
            "98/98 [==============================] - 17s 176ms/step - loss: 0.4023 - accuracy: 0.8552\n",
            "Epoch 331/500\n",
            "98/98 [==============================] - 18s 181ms/step - loss: 0.3995 - accuracy: 0.8576\n",
            "Epoch 332/500\n",
            "98/98 [==============================] - 18s 183ms/step - loss: 0.4056 - accuracy: 0.8541\n",
            "Epoch 333/500\n",
            "98/98 [==============================] - 17s 177ms/step - loss: 0.3932 - accuracy: 0.8592\n",
            "Epoch 334/500\n",
            "98/98 [==============================] - 18s 181ms/step - loss: 0.4042 - accuracy: 0.8535\n",
            "Epoch 335/500\n",
            "98/98 [==============================] - 18s 182ms/step - loss: 0.3929 - accuracy: 0.8590\n",
            "Epoch 336/500\n",
            "98/98 [==============================] - 17s 175ms/step - loss: 0.3966 - accuracy: 0.8555\n",
            "Epoch 337/500\n",
            "98/98 [==============================] - 18s 182ms/step - loss: 0.3951 - accuracy: 0.8579\n",
            "Epoch 338/500\n",
            "98/98 [==============================] - 18s 182ms/step - loss: 0.3976 - accuracy: 0.8578\n",
            "Epoch 339/500\n",
            "98/98 [==============================] - 17s 176ms/step - loss: 0.3846 - accuracy: 0.8630\n",
            "Epoch 340/500\n",
            "98/98 [==============================] - 18s 182ms/step - loss: 0.3915 - accuracy: 0.8601\n",
            "Epoch 341/500\n",
            "98/98 [==============================] - 18s 182ms/step - loss: 0.3840 - accuracy: 0.8608\n",
            "Epoch 342/500\n",
            "98/98 [==============================] - 17s 176ms/step - loss: 0.3870 - accuracy: 0.8595\n",
            "Epoch 343/500\n",
            "98/98 [==============================] - 18s 182ms/step - loss: 0.3922 - accuracy: 0.8598\n",
            "Epoch 344/500\n",
            "98/98 [==============================] - 18s 184ms/step - loss: 0.3898 - accuracy: 0.8609\n",
            "Epoch 345/500\n",
            "98/98 [==============================] - 17s 178ms/step - loss: 0.3845 - accuracy: 0.8621\n",
            "Epoch 346/500\n",
            "98/98 [==============================] - 18s 184ms/step - loss: 0.3857 - accuracy: 0.8623\n",
            "Epoch 347/500\n",
            "98/98 [==============================] - 18s 180ms/step - loss: 0.3767 - accuracy: 0.8642\n",
            "Epoch 348/500\n",
            "98/98 [==============================] - 17s 176ms/step - loss: 0.3850 - accuracy: 0.8618\n",
            "Epoch 349/500\n",
            "98/98 [==============================] - 18s 183ms/step - loss: 0.3799 - accuracy: 0.8649\n",
            "Epoch 350/500\n",
            "98/98 [==============================] - 18s 183ms/step - loss: 0.3762 - accuracy: 0.8639\n",
            "Epoch 351/500\n",
            "98/98 [==============================] - 17s 176ms/step - loss: 0.3733 - accuracy: 0.8679\n",
            "Epoch 352/500\n",
            "98/98 [==============================] - 18s 183ms/step - loss: 0.3750 - accuracy: 0.8655\n",
            "Epoch 353/500\n",
            "98/98 [==============================] - 18s 179ms/step - loss: 0.3716 - accuracy: 0.8677\n",
            "Epoch 354/500\n",
            "98/98 [==============================] - 17s 176ms/step - loss: 0.3707 - accuracy: 0.8668\n",
            "Epoch 355/500\n",
            "98/98 [==============================] - 18s 183ms/step - loss: 0.3755 - accuracy: 0.8658\n",
            "Epoch 356/500\n",
            "98/98 [==============================] - 18s 181ms/step - loss: 0.3637 - accuracy: 0.8701\n",
            "Epoch 357/500\n",
            "98/98 [==============================] - 19s 192ms/step - loss: 0.3678 - accuracy: 0.8695\n",
            "Epoch 358/500\n",
            "98/98 [==============================] - 19s 190ms/step - loss: 0.3633 - accuracy: 0.8702\n",
            "Epoch 359/500\n",
            "98/98 [==============================] - 17s 176ms/step - loss: 0.3781 - accuracy: 0.8628\n",
            "Epoch 360/500\n",
            "98/98 [==============================] - 17s 176ms/step - loss: 0.3669 - accuracy: 0.8677\n",
            "Epoch 361/500\n",
            "98/98 [==============================] - 19s 190ms/step - loss: 0.3660 - accuracy: 0.8687\n",
            "Epoch 362/500\n",
            "98/98 [==============================] - 17s 176ms/step - loss: 0.3615 - accuracy: 0.8706\n",
            "Epoch 363/500\n",
            "98/98 [==============================] - 17s 178ms/step - loss: 0.3665 - accuracy: 0.8698\n",
            "Epoch 364/500\n",
            "98/98 [==============================] - 19s 194ms/step - loss: 0.3648 - accuracy: 0.8702\n",
            "Epoch 365/500\n",
            "98/98 [==============================] - 17s 177ms/step - loss: 0.3553 - accuracy: 0.8727\n",
            "Epoch 366/500\n",
            "98/98 [==============================] - 17s 177ms/step - loss: 0.3557 - accuracy: 0.8717\n",
            "Epoch 367/500\n",
            "98/98 [==============================] - 19s 190ms/step - loss: 0.3580 - accuracy: 0.8706\n",
            "Epoch 368/500\n",
            "98/98 [==============================] - 17s 177ms/step - loss: 0.3569 - accuracy: 0.8730\n",
            "Epoch 369/500\n",
            "98/98 [==============================] - 17s 177ms/step - loss: 0.3598 - accuracy: 0.8719\n",
            "Epoch 370/500\n",
            "98/98 [==============================] - 19s 190ms/step - loss: 0.3511 - accuracy: 0.8744\n",
            "Epoch 371/500\n",
            "98/98 [==============================] - 17s 178ms/step - loss: 0.3506 - accuracy: 0.8739\n",
            "Epoch 372/500\n",
            "98/98 [==============================] - 17s 176ms/step - loss: 0.3529 - accuracy: 0.8723\n",
            "Epoch 373/500\n",
            "98/98 [==============================] - 19s 190ms/step - loss: 0.3540 - accuracy: 0.8731\n",
            "Epoch 374/500\n",
            "98/98 [==============================] - 17s 177ms/step - loss: 0.3548 - accuracy: 0.8732\n",
            "Epoch 375/500\n",
            "98/98 [==============================] - 18s 179ms/step - loss: 0.3575 - accuracy: 0.8711\n",
            "Epoch 376/500\n",
            "98/98 [==============================] - 18s 187ms/step - loss: 0.3432 - accuracy: 0.8762\n",
            "Epoch 377/500\n",
            "98/98 [==============================] - 17s 177ms/step - loss: 0.3515 - accuracy: 0.8746\n",
            "Epoch 378/500\n",
            "98/98 [==============================] - 18s 180ms/step - loss: 0.3399 - accuracy: 0.8781\n",
            "Epoch 379/500\n",
            "98/98 [==============================] - 18s 188ms/step - loss: 0.3435 - accuracy: 0.8768\n",
            "Epoch 380/500\n",
            "98/98 [==============================] - 17s 176ms/step - loss: 0.3444 - accuracy: 0.8773\n",
            "Epoch 381/500\n",
            "98/98 [==============================] - 18s 181ms/step - loss: 0.3412 - accuracy: 0.8797\n",
            "Epoch 382/500\n",
            "98/98 [==============================] - 18s 185ms/step - loss: 0.3476 - accuracy: 0.8771\n",
            "Epoch 383/500\n",
            "98/98 [==============================] - 17s 177ms/step - loss: 0.3400 - accuracy: 0.8773\n",
            "Epoch 384/500\n",
            "98/98 [==============================] - 18s 181ms/step - loss: 0.3434 - accuracy: 0.8780\n",
            "Epoch 385/500\n",
            "98/98 [==============================] - 18s 183ms/step - loss: 0.3423 - accuracy: 0.8779\n",
            "Epoch 386/500\n",
            "98/98 [==============================] - 17s 175ms/step - loss: 0.3430 - accuracy: 0.8772\n",
            "Epoch 387/500\n",
            "98/98 [==============================] - 17s 178ms/step - loss: 0.3356 - accuracy: 0.8789\n",
            "Epoch 388/500\n",
            "98/98 [==============================] - 18s 187ms/step - loss: 0.3387 - accuracy: 0.8791\n",
            "Epoch 389/500\n",
            "98/98 [==============================] - 17s 176ms/step - loss: 0.3352 - accuracy: 0.8808\n",
            "Epoch 390/500\n",
            "98/98 [==============================] - 17s 178ms/step - loss: 0.3352 - accuracy: 0.8807\n",
            "Epoch 391/500\n",
            "98/98 [==============================] - 19s 188ms/step - loss: 0.3383 - accuracy: 0.8787\n",
            "Epoch 392/500\n",
            "98/98 [==============================] - 17s 177ms/step - loss: 0.3393 - accuracy: 0.8800\n",
            "Epoch 393/500\n",
            "98/98 [==============================] - 18s 180ms/step - loss: 0.3366 - accuracy: 0.8803\n",
            "Epoch 394/500\n",
            "98/98 [==============================] - 18s 185ms/step - loss: 0.3268 - accuracy: 0.8825\n",
            "Epoch 395/500\n",
            "98/98 [==============================] - 17s 178ms/step - loss: 0.3347 - accuracy: 0.8799\n",
            "Epoch 396/500\n",
            "98/98 [==============================] - 18s 180ms/step - loss: 0.3302 - accuracy: 0.8831\n",
            "Epoch 397/500\n",
            "98/98 [==============================] - 18s 185ms/step - loss: 0.3266 - accuracy: 0.8842\n",
            "Epoch 398/500\n",
            "98/98 [==============================] - 17s 178ms/step - loss: 0.3260 - accuracy: 0.8815\n",
            "Epoch 399/500\n",
            "98/98 [==============================] - 18s 181ms/step - loss: 0.3239 - accuracy: 0.8839\n",
            "Epoch 400/500\n",
            "98/98 [==============================] - 18s 182ms/step - loss: 0.3235 - accuracy: 0.8853\n",
            "Epoch 401/500\n",
            "98/98 [==============================] - 17s 177ms/step - loss: 0.3273 - accuracy: 0.8837\n",
            "Epoch 402/500\n",
            "98/98 [==============================] - 18s 183ms/step - loss: 0.3239 - accuracy: 0.8849\n",
            "Epoch 403/500\n",
            "98/98 [==============================] - 18s 183ms/step - loss: 0.3231 - accuracy: 0.8856\n",
            "Epoch 404/500\n",
            "98/98 [==============================] - 17s 177ms/step - loss: 0.3218 - accuracy: 0.8841\n",
            "Epoch 405/500\n",
            "98/98 [==============================] - 18s 185ms/step - loss: 0.3234 - accuracy: 0.8863\n",
            "Epoch 406/500\n",
            "98/98 [==============================] - 18s 181ms/step - loss: 0.3165 - accuracy: 0.8874\n",
            "Epoch 407/500\n",
            "98/98 [==============================] - 17s 176ms/step - loss: 0.3225 - accuracy: 0.8835\n",
            "Epoch 408/500\n",
            "98/98 [==============================] - 18s 187ms/step - loss: 0.3209 - accuracy: 0.8848\n",
            "Epoch 409/500\n",
            "98/98 [==============================] - 18s 180ms/step - loss: 0.3151 - accuracy: 0.8868\n",
            "Epoch 410/500\n",
            "98/98 [==============================] - 17s 177ms/step - loss: 0.3158 - accuracy: 0.8858\n",
            "Epoch 411/500\n",
            "98/98 [==============================] - 18s 185ms/step - loss: 0.3155 - accuracy: 0.8868\n",
            "Epoch 412/500\n",
            "98/98 [==============================] - 18s 181ms/step - loss: 0.3126 - accuracy: 0.8884\n",
            "Epoch 413/500\n",
            "98/98 [==============================] - 17s 178ms/step - loss: 0.3117 - accuracy: 0.8871\n",
            "Epoch 414/500\n",
            "98/98 [==============================] - 18s 184ms/step - loss: 0.3116 - accuracy: 0.8882\n",
            "Epoch 415/500\n",
            "98/98 [==============================] - 18s 183ms/step - loss: 0.3091 - accuracy: 0.8903\n",
            "Epoch 416/500\n",
            "98/98 [==============================] - 18s 179ms/step - loss: 0.3151 - accuracy: 0.8872\n",
            "Epoch 417/500\n",
            "98/98 [==============================] - 19s 190ms/step - loss: 0.3146 - accuracy: 0.8870\n",
            "Epoch 418/500\n",
            "98/98 [==============================] - 18s 179ms/step - loss: 0.3106 - accuracy: 0.8887\n",
            "Epoch 419/500\n",
            "98/98 [==============================] - 17s 177ms/step - loss: 0.3131 - accuracy: 0.8885\n",
            "Epoch 420/500\n",
            "98/98 [==============================] - 19s 189ms/step - loss: 0.3092 - accuracy: 0.8897\n",
            "Epoch 421/500\n",
            "98/98 [==============================] - 17s 177ms/step - loss: 0.3138 - accuracy: 0.8877\n",
            "Epoch 422/500\n",
            "98/98 [==============================] - 17s 177ms/step - loss: 0.3119 - accuracy: 0.8892\n",
            "Epoch 423/500\n",
            "98/98 [==============================] - 18s 186ms/step - loss: 0.3093 - accuracy: 0.8900\n",
            "Epoch 424/500\n",
            "98/98 [==============================] - 18s 179ms/step - loss: 0.3085 - accuracy: 0.8906\n",
            "Epoch 425/500\n",
            "98/98 [==============================] - 17s 178ms/step - loss: 0.3040 - accuracy: 0.8915\n",
            "Epoch 426/500\n",
            "98/98 [==============================] - 19s 191ms/step - loss: 0.3059 - accuracy: 0.8908\n",
            "Epoch 427/500\n",
            "98/98 [==============================] - 17s 177ms/step - loss: 0.3099 - accuracy: 0.8886\n",
            "Epoch 428/500\n",
            "98/98 [==============================] - 17s 177ms/step - loss: 0.3061 - accuracy: 0.8919\n",
            "Epoch 429/500\n",
            "98/98 [==============================] - 19s 191ms/step - loss: 0.3027 - accuracy: 0.8940\n",
            "Epoch 430/500\n",
            "98/98 [==============================] - 17s 177ms/step - loss: 0.3020 - accuracy: 0.8944\n",
            "Epoch 431/500\n",
            "98/98 [==============================] - 17s 177ms/step - loss: 0.2983 - accuracy: 0.8933\n",
            "Epoch 432/500\n",
            "98/98 [==============================] - 19s 191ms/step - loss: 0.2998 - accuracy: 0.8951\n",
            "Epoch 433/500\n",
            "98/98 [==============================] - 17s 177ms/step - loss: 0.3011 - accuracy: 0.8925\n",
            "Epoch 434/500\n",
            "98/98 [==============================] - 17s 178ms/step - loss: 0.2921 - accuracy: 0.8978\n",
            "Epoch 435/500\n",
            "98/98 [==============================] - 19s 190ms/step - loss: 0.3035 - accuracy: 0.8921\n",
            "Epoch 436/500\n",
            "98/98 [==============================] - 17s 176ms/step - loss: 0.2980 - accuracy: 0.8968\n",
            "Epoch 437/500\n",
            "98/98 [==============================] - 17s 176ms/step - loss: 0.2982 - accuracy: 0.8933\n",
            "Epoch 438/500\n",
            "98/98 [==============================] - 18s 189ms/step - loss: 0.3011 - accuracy: 0.8937\n",
            "Epoch 439/500\n",
            "98/98 [==============================] - 17s 176ms/step - loss: 0.3021 - accuracy: 0.8918\n",
            "Epoch 440/500\n",
            "98/98 [==============================] - 17s 177ms/step - loss: 0.2999 - accuracy: 0.8930\n",
            "Epoch 441/500\n",
            "98/98 [==============================] - 19s 191ms/step - loss: 0.2955 - accuracy: 0.8960\n",
            "Epoch 442/500\n",
            "98/98 [==============================] - 17s 179ms/step - loss: 0.2930 - accuracy: 0.8968\n",
            "Epoch 443/500\n",
            "98/98 [==============================] - 17s 176ms/step - loss: 0.2940 - accuracy: 0.8949\n",
            "Epoch 444/500\n",
            "98/98 [==============================] - 19s 189ms/step - loss: 0.2974 - accuracy: 0.8946\n",
            "Epoch 445/500\n",
            "98/98 [==============================] - 17s 178ms/step - loss: 0.2876 - accuracy: 0.8976\n",
            "Epoch 446/500\n",
            "98/98 [==============================] - 17s 178ms/step - loss: 0.2848 - accuracy: 0.8991\n",
            "Epoch 447/500\n",
            "98/98 [==============================] - 19s 190ms/step - loss: 0.2972 - accuracy: 0.8953\n",
            "Epoch 448/500\n",
            "98/98 [==============================] - 17s 178ms/step - loss: 0.2910 - accuracy: 0.8958\n",
            "Epoch 449/500\n",
            "98/98 [==============================] - 17s 178ms/step - loss: 0.2917 - accuracy: 0.8966\n",
            "Epoch 450/500\n",
            "98/98 [==============================] - 19s 191ms/step - loss: 0.2939 - accuracy: 0.8962\n",
            "Epoch 451/500\n",
            "98/98 [==============================] - 17s 177ms/step - loss: 0.2889 - accuracy: 0.8980\n",
            "Epoch 452/500\n",
            "98/98 [==============================] - 18s 185ms/step - loss: 0.2862 - accuracy: 0.8977\n",
            "Epoch 453/500\n",
            "98/98 [==============================] - 19s 191ms/step - loss: 0.2845 - accuracy: 0.8988\n",
            "Epoch 454/500\n",
            "98/98 [==============================] - 17s 177ms/step - loss: 0.2861 - accuracy: 0.8988\n",
            "Epoch 455/500\n",
            "98/98 [==============================] - 17s 178ms/step - loss: 0.2883 - accuracy: 0.8970\n",
            "Epoch 456/500\n",
            "98/98 [==============================] - 19s 191ms/step - loss: 0.2837 - accuracy: 0.8990\n",
            "Epoch 457/500\n",
            "98/98 [==============================] - 18s 179ms/step - loss: 0.2819 - accuracy: 0.9007\n",
            "Epoch 458/500\n",
            "98/98 [==============================] - 18s 180ms/step - loss: 0.2972 - accuracy: 0.8958\n",
            "Epoch 459/500\n",
            "98/98 [==============================] - 19s 189ms/step - loss: 0.2799 - accuracy: 0.9015\n",
            "Epoch 460/500\n",
            "98/98 [==============================] - 17s 177ms/step - loss: 0.2765 - accuracy: 0.9015\n",
            "Epoch 461/500\n",
            "98/98 [==============================] - 18s 181ms/step - loss: 0.2849 - accuracy: 0.9001\n",
            "Epoch 462/500\n",
            "98/98 [==============================] - 18s 186ms/step - loss: 0.2778 - accuracy: 0.9019\n",
            "Epoch 463/500\n",
            "98/98 [==============================] - 17s 177ms/step - loss: 0.2797 - accuracy: 0.9027\n",
            "Epoch 464/500\n",
            "98/98 [==============================] - 18s 183ms/step - loss: 0.2796 - accuracy: 0.9019\n",
            "Epoch 465/500\n",
            "98/98 [==============================] - 18s 184ms/step - loss: 0.2837 - accuracy: 0.9009\n",
            "Epoch 466/500\n",
            "98/98 [==============================] - 17s 178ms/step - loss: 0.2774 - accuracy: 0.9032\n",
            "Epoch 467/500\n",
            "98/98 [==============================] - 18s 189ms/step - loss: 0.2791 - accuracy: 0.9006\n",
            "Epoch 468/500\n",
            "98/98 [==============================] - 18s 182ms/step - loss: 0.2760 - accuracy: 0.9023\n",
            "Epoch 469/500\n",
            "98/98 [==============================] - 17s 178ms/step - loss: 0.2761 - accuracy: 0.9021\n",
            "Epoch 470/500\n",
            "98/98 [==============================] - 19s 191ms/step - loss: 0.2770 - accuracy: 0.9023\n",
            "Epoch 471/500\n",
            "98/98 [==============================] - 17s 177ms/step - loss: 0.2782 - accuracy: 0.9017\n",
            "Epoch 472/500\n",
            "98/98 [==============================] - 17s 177ms/step - loss: 0.2700 - accuracy: 0.9041\n",
            "Epoch 473/500\n",
            "98/98 [==============================] - 19s 192ms/step - loss: 0.2752 - accuracy: 0.9012\n",
            "Epoch 474/500\n",
            "98/98 [==============================] - 17s 178ms/step - loss: 0.2737 - accuracy: 0.9036\n",
            "Epoch 475/500\n",
            "98/98 [==============================] - 17s 178ms/step - loss: 0.2719 - accuracy: 0.9039\n",
            "Epoch 476/500\n",
            "98/98 [==============================] - 19s 192ms/step - loss: 0.2727 - accuracy: 0.9033\n",
            "Epoch 477/500\n",
            "98/98 [==============================] - 17s 178ms/step - loss: 0.2724 - accuracy: 0.9040\n",
            "Epoch 478/500\n",
            "98/98 [==============================] - 17s 177ms/step - loss: 0.2789 - accuracy: 0.9007\n",
            "Epoch 479/500\n",
            "98/98 [==============================] - 19s 192ms/step - loss: 0.2707 - accuracy: 0.9039\n",
            "Epoch 480/500\n",
            "98/98 [==============================] - 17s 178ms/step - loss: 0.2683 - accuracy: 0.9056\n",
            "Epoch 481/500\n",
            "98/98 [==============================] - 17s 178ms/step - loss: 0.2704 - accuracy: 0.9049\n",
            "Epoch 482/500\n",
            "98/98 [==============================] - 19s 193ms/step - loss: 0.2726 - accuracy: 0.9049\n",
            "Epoch 483/500\n",
            "98/98 [==============================] - 17s 177ms/step - loss: 0.2651 - accuracy: 0.9049\n",
            "Epoch 484/500\n",
            "98/98 [==============================] - 17s 178ms/step - loss: 0.2657 - accuracy: 0.9068\n",
            "Epoch 485/500\n",
            "98/98 [==============================] - 19s 191ms/step - loss: 0.2653 - accuracy: 0.9071\n",
            "Epoch 486/500\n",
            "98/98 [==============================] - 17s 178ms/step - loss: 0.2642 - accuracy: 0.9055\n",
            "Epoch 487/500\n",
            "98/98 [==============================] - 17s 177ms/step - loss: 0.2717 - accuracy: 0.9054\n",
            "Epoch 488/500\n",
            "98/98 [==============================] - 19s 189ms/step - loss: 0.2660 - accuracy: 0.9076\n",
            "Epoch 489/500\n",
            "98/98 [==============================] - 17s 178ms/step - loss: 0.2696 - accuracy: 0.9044\n",
            "Epoch 490/500\n",
            "98/98 [==============================] - 17s 177ms/step - loss: 0.2717 - accuracy: 0.9046\n",
            "Epoch 491/500\n",
            "98/98 [==============================] - 19s 191ms/step - loss: 0.2631 - accuracy: 0.9066\n",
            "Epoch 492/500\n",
            "98/98 [==============================] - 17s 178ms/step - loss: 0.2593 - accuracy: 0.9085\n",
            "Epoch 493/500\n",
            "98/98 [==============================] - 18s 181ms/step - loss: 0.2652 - accuracy: 0.9075\n",
            "Epoch 494/500\n",
            "98/98 [==============================] - 19s 189ms/step - loss: 0.2643 - accuracy: 0.9066\n",
            "Epoch 495/500\n",
            "98/98 [==============================] - 17s 178ms/step - loss: 0.2669 - accuracy: 0.9077\n",
            "Epoch 496/500\n",
            "98/98 [==============================] - 18s 182ms/step - loss: 0.2668 - accuracy: 0.9058\n",
            "Epoch 497/500\n",
            "98/98 [==============================] - 18s 184ms/step - loss: 0.2598 - accuracy: 0.9100\n",
            "Epoch 498/500\n",
            "98/98 [==============================] - 17s 178ms/step - loss: 0.2589 - accuracy: 0.9097\n",
            "Epoch 499/500\n",
            "98/98 [==============================] - 18s 186ms/step - loss: 0.2597 - accuracy: 0.9078\n",
            "Epoch 500/500\n",
            "98/98 [==============================] - 18s 182ms/step - loss: 0.2518 - accuracy: 0.9099\n",
            "313/313 [==============================] - 4s 10ms/step - loss: 2.1274 - accuracy: 0.5594\n",
            "Độ mất mát: 2.1273982524871826\n",
            "Độ chính xác: 0.5594000220298767\n"
          ]
        }
      ]
    },
    {
      "cell_type": "markdown",
      "source": [
        "Đoạn code trên được viết bằng ngôn ngữ Python và sử dụng thư viện Keras để huấn luyện một mô hình neural network.\n",
        "\n",
        "Đầu tiên, mô hình được biên dịch bằng phương pháp tối ưu hóa RMSprop và độ đo chất lượng là categorical_crossentropy. Đồng thời, trong quá trình huấn luyện, các chỉ số accuracy cũng được tính toán và lưu trữ.\n",
        "\n",
        "Sau khi biên dịch, mô hình được huấn luyện trên tập dữ liệu x_train và y_train với số epoch (lần học) là 500 và batch_size (kích thước các batch dữ liệu đầu vào) là 512.\n",
        "\n",
        "Cuối cùng, mô hình được đánh giá trên tập dữ liệu x_test và y_test để tính toán độ mất mát (test_loss) và độ chính xác (test_acc). Kết quả này được in ra màn hình bằng lệnh print."
      ],
      "metadata": {
        "id": "Yazu6HWNWNLZ"
      }
    },
    {
      "cell_type": "code",
      "source": [
        "model.save('/content/drive/MyDrive/cifar10_trained.h5') #Luu file da Train xong thanh file .h5\n",
        "#Lưu về máy tính vì sau khi thoát Colab xóa mất"
      ],
      "metadata": {
        "id": "OUPeCBjNL7e3"
      },
      "execution_count": 28,
      "outputs": []
    },
    {
      "cell_type": "code",
      "source": [
        "#Test ảnh khác\n",
        "from keras.utils.image_utils import img_to_array\n",
        "from keras.utils import load_img\n",
        "import numpy as np\n",
        "\n",
        "img=load_img('123.jpg',target_size=(32,32))\n",
        "img=img_to_array(img)\n",
        "img=img.reshape(1,32*32*3)\n",
        "img=img.astype('float32')\n",
        "img=img/255\n",
        "np.argmax(model.predict(img),axis=-1)"
      ],
      "metadata": {
        "colab": {
          "base_uri": "https://localhost:8080/"
        },
        "id": "7ioI18yBPXPc",
        "outputId": "d4592ac9-c9f7-496c-b2d1-fdcd724c79eb"
      },
      "execution_count": 29,
      "outputs": [
        {
          "output_type": "stream",
          "name": "stdout",
          "text": [
            "1/1 [==============================] - 0s 106ms/step\n"
          ]
        },
        {
          "output_type": "execute_result",
          "data": {
            "text/plain": [
              "array([3])"
            ]
          },
          "metadata": {},
          "execution_count": 29
        }
      ]
    },
    {
      "cell_type": "code",
      "source": [
        "#BTVN: Cifar100, fashion MNIST, coi lại các bài đã làm"
      ],
      "metadata": {
        "id": "i1VJW6_TXIiJ"
      },
      "execution_count": null,
      "outputs": []
    }
  ]
}